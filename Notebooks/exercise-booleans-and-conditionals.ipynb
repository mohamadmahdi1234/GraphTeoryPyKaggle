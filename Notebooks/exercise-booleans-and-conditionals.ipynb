{
 "cells": [
  {
   "cell_type": "markdown",
   "id": "75e973b8",
   "metadata": {
    "papermill": {
     "duration": 0.012121,
     "end_time": "2023-02-22T02:02:14.228193",
     "exception": false,
     "start_time": "2023-02-22T02:02:14.216072",
     "status": "completed"
    },
    "tags": []
   },
   "source": [
    "**This notebook is an exercise in the [Python](https://www.kaggle.com/learn/python) course.  You can reference the tutorial at [this link](https://www.kaggle.com/colinmorris/booleans-and-conditionals).**\n",
    "\n",
    "---\n"
   ]
  },
  {
   "cell_type": "markdown",
   "id": "11d8e238",
   "metadata": {
    "papermill": {
     "duration": 0.009228,
     "end_time": "2023-02-22T02:02:14.247110",
     "exception": false,
     "start_time": "2023-02-22T02:02:14.237882",
     "status": "completed"
    },
    "tags": []
   },
   "source": [
    "In this exercise, you'll put to work what you have learned about booleans and conditionals.\n",
    "\n",
    "To get started, **run the setup code below** before writing your own code (and if you leave this notebook and come back later, don't forget to run the setup code again)."
   ]
  },
  {
   "cell_type": "code",
   "execution_count": 1,
   "id": "24694562",
   "metadata": {
    "execution": {
     "iopub.execute_input": "2023-02-22T02:02:14.271390Z",
     "iopub.status.busy": "2023-02-22T02:02:14.269899Z",
     "iopub.status.idle": "2023-02-22T02:02:14.328307Z",
     "shell.execute_reply": "2023-02-22T02:02:14.327001Z"
    },
    "papermill": {
     "duration": 0.072333,
     "end_time": "2023-02-22T02:02:14.330944",
     "exception": false,
     "start_time": "2023-02-22T02:02:14.258611",
     "status": "completed"
    },
    "tags": []
   },
   "outputs": [
    {
     "name": "stdout",
     "output_type": "stream",
     "text": [
      "Setup complete.\n"
     ]
    }
   ],
   "source": [
    "from learntools.core import binder; binder.bind(globals())\n",
    "from learntools.python.ex3 import *\n",
    "print('Setup complete.')"
   ]
  },
  {
   "cell_type": "markdown",
   "id": "446bd42b",
   "metadata": {
    "papermill": {
     "duration": 0.009729,
     "end_time": "2023-02-22T02:02:14.350441",
     "exception": false,
     "start_time": "2023-02-22T02:02:14.340712",
     "status": "completed"
    },
    "tags": []
   },
   "source": [
    "# 1.\n",
    "\n",
    "Many programming languages have [`sign`](https://en.wikipedia.org/wiki/Sign_function) available as a built-in function. Python doesn't, but we can define our own!\n",
    "\n",
    "In the cell below, define a function called `sign` which takes a numerical argument and returns -1 if it's negative, 1 if it's positive, and 0 if it's 0."
   ]
  },
  {
   "cell_type": "code",
   "execution_count": 2,
   "id": "0bb93945",
   "metadata": {
    "execution": {
     "iopub.execute_input": "2023-02-22T02:02:14.372053Z",
     "iopub.status.busy": "2023-02-22T02:02:14.371022Z",
     "iopub.status.idle": "2023-02-22T02:02:14.383117Z",
     "shell.execute_reply": "2023-02-22T02:02:14.381885Z"
    },
    "papermill": {
     "duration": 0.025433,
     "end_time": "2023-02-22T02:02:14.385515",
     "exception": false,
     "start_time": "2023-02-22T02:02:14.360082",
     "status": "completed"
    },
    "tags": []
   },
   "outputs": [
    {
     "data": {
      "application/javascript": [
       "parent.postMessage({\"jupyterEvent\": \"custom.exercise_interaction\", \"data\": {\"outcomeType\": 1, \"valueTowardsCompletion\": 0.2, \"interactionType\": 1, \"questionType\": 2, \"questionId\": \"1_SignFunctionProblem\", \"learnToolsVersion\": \"0.3.4\", \"failureMessage\": \"\", \"exceptionClass\": \"\", \"trace\": \"\"}}, \"*\")"
      ],
      "text/plain": [
       "<IPython.core.display.Javascript object>"
      ]
     },
     "metadata": {},
     "output_type": "display_data"
    },
    {
     "data": {
      "text/markdown": [
       "<span style=\"color:#33cc33\">Correct</span>"
      ],
      "text/plain": [
       "Correct"
      ]
     },
     "metadata": {},
     "output_type": "display_data"
    }
   ],
   "source": [
    "# Your code goes here. Define a function called 'sign'\n",
    "def sign(num):\n",
    "    if num<0:\n",
    "        return -1\n",
    "    return 0 if num==0 else 1\n",
    "# Check your answer\n",
    "q1.check()"
   ]
  },
  {
   "cell_type": "code",
   "execution_count": 3,
   "id": "2b17b374",
   "metadata": {
    "execution": {
     "iopub.execute_input": "2023-02-22T02:02:14.407576Z",
     "iopub.status.busy": "2023-02-22T02:02:14.406822Z",
     "iopub.status.idle": "2023-02-22T02:02:14.411644Z",
     "shell.execute_reply": "2023-02-22T02:02:14.410633Z"
    },
    "papermill": {
     "duration": 0.018828,
     "end_time": "2023-02-22T02:02:14.414241",
     "exception": false,
     "start_time": "2023-02-22T02:02:14.395413",
     "status": "completed"
    },
    "tags": []
   },
   "outputs": [],
   "source": [
    "#q1.solution()"
   ]
  },
  {
   "cell_type": "markdown",
   "id": "26870bd5",
   "metadata": {
    "papermill": {
     "duration": 0.009515,
     "end_time": "2023-02-22T02:02:14.433724",
     "exception": false,
     "start_time": "2023-02-22T02:02:14.424209",
     "status": "completed"
    },
    "tags": []
   },
   "source": [
    "# 2.\n",
    "\n",
    "We've decided to add \"logging\" to our `to_smash` function from the previous exercise."
   ]
  },
  {
   "cell_type": "code",
   "execution_count": 4,
   "id": "c061fa96",
   "metadata": {
    "execution": {
     "iopub.execute_input": "2023-02-22T02:02:14.455292Z",
     "iopub.status.busy": "2023-02-22T02:02:14.454835Z",
     "iopub.status.idle": "2023-02-22T02:02:14.472721Z",
     "shell.execute_reply": "2023-02-22T02:02:14.471351Z"
    },
    "papermill": {
     "duration": 0.031972,
     "end_time": "2023-02-22T02:02:14.475447",
     "exception": false,
     "start_time": "2023-02-22T02:02:14.443475",
     "status": "completed"
    },
    "tags": []
   },
   "outputs": [
    {
     "name": "stdout",
     "output_type": "stream",
     "text": [
      "Splitting 91 candies\n"
     ]
    },
    {
     "data": {
      "text/plain": [
       "1"
      ]
     },
     "execution_count": 4,
     "metadata": {},
     "output_type": "execute_result"
    }
   ],
   "source": [
    "def to_smash(total_candies):\n",
    "    \"\"\"Return the number of leftover candies that must be smashed after distributing\n",
    "    the given number of candies evenly between 3 friends.\n",
    "    \n",
    "    >>> to_smash(91)\n",
    "    1\n",
    "    \"\"\"\n",
    "    print(\"Splitting\", total_candies, \"candies\")\n",
    "    return total_candies % 3\n",
    "\n",
    "to_smash(91)"
   ]
  },
  {
   "cell_type": "markdown",
   "id": "a95ff7c6",
   "metadata": {
    "papermill": {
     "duration": 0.009688,
     "end_time": "2023-02-22T02:02:14.495237",
     "exception": false,
     "start_time": "2023-02-22T02:02:14.485549",
     "status": "completed"
    },
    "tags": []
   },
   "source": [
    "What happens if we call it with `total_candies = 1`?"
   ]
  },
  {
   "cell_type": "code",
   "execution_count": 5,
   "id": "8eedf0a6",
   "metadata": {
    "execution": {
     "iopub.execute_input": "2023-02-22T02:02:14.517228Z",
     "iopub.status.busy": "2023-02-22T02:02:14.516455Z",
     "iopub.status.idle": "2023-02-22T02:02:14.524247Z",
     "shell.execute_reply": "2023-02-22T02:02:14.522780Z"
    },
    "papermill": {
     "duration": 0.021573,
     "end_time": "2023-02-22T02:02:14.526913",
     "exception": false,
     "start_time": "2023-02-22T02:02:14.505340",
     "status": "completed"
    },
    "tags": []
   },
   "outputs": [
    {
     "name": "stdout",
     "output_type": "stream",
     "text": [
      "Splitting 1 candies\n"
     ]
    },
    {
     "data": {
      "text/plain": [
       "1"
      ]
     },
     "execution_count": 5,
     "metadata": {},
     "output_type": "execute_result"
    }
   ],
   "source": [
    "to_smash(1)"
   ]
  },
  {
   "cell_type": "markdown",
   "id": "0c1ee58e",
   "metadata": {
    "papermill": {
     "duration": 0.01082,
     "end_time": "2023-02-22T02:02:14.548323",
     "exception": false,
     "start_time": "2023-02-22T02:02:14.537503",
     "status": "completed"
    },
    "tags": []
   },
   "source": [
    "That isn't great grammar!\n",
    "\n",
    "Modify the definition in the cell below to correct the grammar of our print statement. (If there's only one candy, we should use the singular \"candy\" instead of the plural \"candies\")"
   ]
  },
  {
   "cell_type": "code",
   "execution_count": 6,
   "id": "9739f2bf",
   "metadata": {
    "execution": {
     "iopub.execute_input": "2023-02-22T02:02:14.571739Z",
     "iopub.status.busy": "2023-02-22T02:02:14.570715Z",
     "iopub.status.idle": "2023-02-22T02:02:14.580410Z",
     "shell.execute_reply": "2023-02-22T02:02:14.579053Z"
    },
    "papermill": {
     "duration": 0.024425,
     "end_time": "2023-02-22T02:02:14.583010",
     "exception": false,
     "start_time": "2023-02-22T02:02:14.558585",
     "status": "completed"
    },
    "tags": []
   },
   "outputs": [
    {
     "name": "stdout",
     "output_type": "stream",
     "text": [
      "Splitting 91 candies\n",
      "Splitting 1 candy\n"
     ]
    },
    {
     "data": {
      "text/plain": [
       "1"
      ]
     },
     "execution_count": 6,
     "metadata": {},
     "output_type": "execute_result"
    }
   ],
   "source": [
    "def to_smash(total_candies):\n",
    "    \"\"\"Return the number of leftover candies that must be smashed after distributing\n",
    "    the given number of candies evenly between 3 friends.\n",
    "    \n",
    "    >>> to_smash(91)\n",
    "    1\n",
    "    \"\"\"\n",
    "    print(\"Splitting\", total_candies, \"candies\") if total_candies >1 else print(\"Splitting\", total_candies, \"candy\")\n",
    "    return total_candies % 3\n",
    "\n",
    "to_smash(91)\n",
    "to_smash(1)"
   ]
  },
  {
   "cell_type": "markdown",
   "id": "77008719",
   "metadata": {
    "papermill": {
     "duration": 0.00992,
     "end_time": "2023-02-22T02:02:14.603393",
     "exception": false,
     "start_time": "2023-02-22T02:02:14.593473",
     "status": "completed"
    },
    "tags": []
   },
   "source": [
    "To get credit for completing this problem, and to see the official answer, run the code cell below."
   ]
  },
  {
   "cell_type": "code",
   "execution_count": 7,
   "id": "504989c7",
   "metadata": {
    "execution": {
     "iopub.execute_input": "2023-02-22T02:02:14.625516Z",
     "iopub.status.busy": "2023-02-22T02:02:14.625080Z",
     "iopub.status.idle": "2023-02-22T02:02:14.634862Z",
     "shell.execute_reply": "2023-02-22T02:02:14.633630Z"
    },
    "papermill": {
     "duration": 0.0237,
     "end_time": "2023-02-22T02:02:14.637313",
     "exception": false,
     "start_time": "2023-02-22T02:02:14.613613",
     "status": "completed"
    },
    "tags": []
   },
   "outputs": [
    {
     "data": {
      "application/javascript": [
       "parent.postMessage({\"jupyterEvent\": \"custom.exercise_interaction\", \"data\": {\"interactionType\": 3, \"questionType\": 4, \"questionId\": \"2_PluralizationProblem\", \"learnToolsVersion\": \"0.3.4\", \"valueTowardsCompletion\": 0.0, \"failureMessage\": \"\", \"exceptionClass\": \"\", \"trace\": \"\", \"outcomeType\": 4}}, \"*\")"
      ],
      "text/plain": [
       "<IPython.core.display.Javascript object>"
      ]
     },
     "metadata": {},
     "output_type": "display_data"
    },
    {
     "data": {
      "text/markdown": [
       "<span style=\"color:#33cc99\">Solution:</span> A straightforward (and totally fine) solution is to replace the original `print` call with:\n",
       "\n",
       "```python\n",
       "if total_candies == 1:\n",
       "    print(\"Splitting 1 candy\")\n",
       "else:\n",
       "    print(\"Splitting\", total_candies, \"candies\")\n",
       "```\n",
       "\n",
       "Here's a slightly more succinct solution using a conditional expression:\n",
       "\n",
       "```python\n",
       "print(\"Splitting\", total_candies, \"candy\" if total_candies == 1 else \"candies\")\n",
       "```"
      ],
      "text/plain": [
       "Solution: A straightforward (and totally fine) solution is to replace the original `print` call with:\n",
       "\n",
       "```python\n",
       "if total_candies == 1:\n",
       "    print(\"Splitting 1 candy\")\n",
       "else:\n",
       "    print(\"Splitting\", total_candies, \"candies\")\n",
       "```\n",
       "\n",
       "Here's a slightly more succinct solution using a conditional expression:\n",
       "\n",
       "```python\n",
       "print(\"Splitting\", total_candies, \"candy\" if total_candies == 1 else \"candies\")\n",
       "```"
      ]
     },
     "metadata": {},
     "output_type": "display_data"
    }
   ],
   "source": [
    "# Check your answer (Run this code cell to receive credit!)\n",
    "q2.solution()"
   ]
  },
  {
   "cell_type": "markdown",
   "id": "2c97f1c7",
   "metadata": {
    "papermill": {
     "duration": 0.010115,
     "end_time": "2023-02-22T02:02:14.658126",
     "exception": false,
     "start_time": "2023-02-22T02:02:14.648011",
     "status": "completed"
    },
    "tags": []
   },
   "source": [
    "# 3. <span title=\"A bit spicy\" style=\"color: darkgreen \">🌶️</span>\n",
    "\n",
    "In the tutorial, we talked about deciding whether we're prepared for the weather. I said that I'm safe from today's weather if...\n",
    "- I have an umbrella...\n",
    "- or if the rain isn't too heavy and I have a hood...\n",
    "- otherwise, I'm still fine unless it's raining *and* it's a workday\n",
    "\n",
    "The function below uses our first attempt at turning this logic into a Python expression. I claimed that there was a bug in that code. Can you find it?\n",
    "\n",
    "To prove that `prepared_for_weather` is buggy, come up with a set of inputs where either:\n",
    "- the function returns `False` (but should have returned `True`), or\n",
    "- the function returned `True` (but should have returned `False`).\n",
    "\n",
    "To get credit for completing this question, your code should return a <font color='#33cc33'>Correct</font> result."
   ]
  },
  {
   "cell_type": "code",
   "execution_count": 8,
   "id": "edc0250a",
   "metadata": {
    "execution": {
     "iopub.execute_input": "2023-02-22T02:02:14.682513Z",
     "iopub.status.busy": "2023-02-22T02:02:14.681601Z",
     "iopub.status.idle": "2023-02-22T02:02:14.693966Z",
     "shell.execute_reply": "2023-02-22T02:02:14.692707Z"
    },
    "papermill": {
     "duration": 0.02696,
     "end_time": "2023-02-22T02:02:14.696380",
     "exception": false,
     "start_time": "2023-02-22T02:02:14.669420",
     "status": "completed"
    },
    "tags": []
   },
   "outputs": [
    {
     "name": "stdout",
     "output_type": "stream",
     "text": [
      "False\n"
     ]
    },
    {
     "data": {
      "application/javascript": [
       "parent.postMessage({\"jupyterEvent\": \"custom.exercise_interaction\", \"data\": {\"outcomeType\": 1, \"valueTowardsCompletion\": 0.2, \"interactionType\": 1, \"questionType\": 1, \"questionId\": \"3_WeatherDebug\", \"learnToolsVersion\": \"0.3.4\", \"failureMessage\": \"\", \"exceptionClass\": \"\", \"trace\": \"\"}}, \"*\")"
      ],
      "text/plain": [
       "<IPython.core.display.Javascript object>"
      ]
     },
     "metadata": {},
     "output_type": "display_data"
    },
    {
     "data": {
      "text/markdown": [
       "<span style=\"color:#33cc33\">Correct:</span> \n",
       "\n",
       "One example of a failing test case is:\n",
       "\n",
       "```python\n",
       "have_umbrella = False\n",
       "rain_level = 0.0\n",
       "have_hood = False\n",
       "is_workday = False\n",
       "```\n",
       "\n",
       "Clearly we're prepared for the weather in this case. It's not raining. Not only that, it's not a workday, so we don't even need to leave the house! But our function will return False on these inputs.\n",
       "\n",
       "The key problem is that Python implictly parenthesizes the last part as:\n",
       "\n",
       "```python\n",
       "(not (rain_level > 0)) and is_workday\n",
       "```\n",
       "\n",
       "Whereas what we were trying to express would look more like:\n",
       "\n",
       "```python\n",
       "not (rain_level > 0 and is_workday)\n",
       "```\n"
      ],
      "text/plain": [
       "Correct: \n",
       "\n",
       "One example of a failing test case is:\n",
       "\n",
       "```python\n",
       "have_umbrella = False\n",
       "rain_level = 0.0\n",
       "have_hood = False\n",
       "is_workday = False\n",
       "```\n",
       "\n",
       "Clearly we're prepared for the weather in this case. It's not raining. Not only that, it's not a workday, so we don't even need to leave the house! But our function will return False on these inputs.\n",
       "\n",
       "The key problem is that Python implictly parenthesizes the last part as:\n",
       "\n",
       "```python\n",
       "(not (rain_level > 0)) and is_workday\n",
       "```\n",
       "\n",
       "Whereas what we were trying to express would look more like:\n",
       "\n",
       "```python\n",
       "not (rain_level > 0 and is_workday)\n",
       "```"
      ]
     },
     "metadata": {},
     "output_type": "display_data"
    }
   ],
   "source": [
    "def prepared_for_weather(have_umbrella, rain_level, have_hood, is_workday):\n",
    "    # Don't change this code. Our goal is just to find the bug, not fix it!\n",
    "    return have_umbrella or rain_level < 5 and have_hood or not rain_level > 0 and is_workday\n",
    "\n",
    "# Change the values of these inputs so they represent a case where prepared_for_weather\n",
    "# returns the wrong answer.\n",
    "have_umbrella = False\n",
    "rain_level = 0.0\n",
    "have_hood = False\n",
    "is_workday = False\n",
    "\n",
    "# Check what the function returns given the current values of the variables above\n",
    "actual = prepared_for_weather(have_umbrella, rain_level, have_hood, is_workday)\n",
    "print(actual)\n",
    "\n",
    "# Check your answer\n",
    "q3.check()"
   ]
  },
  {
   "cell_type": "code",
   "execution_count": 9,
   "id": "e3282032",
   "metadata": {
    "execution": {
     "iopub.execute_input": "2023-02-22T02:02:14.720915Z",
     "iopub.status.busy": "2023-02-22T02:02:14.720187Z",
     "iopub.status.idle": "2023-02-22T02:02:14.724202Z",
     "shell.execute_reply": "2023-02-22T02:02:14.723241Z"
    },
    "papermill": {
     "duration": 0.018935,
     "end_time": "2023-02-22T02:02:14.726714",
     "exception": false,
     "start_time": "2023-02-22T02:02:14.707779",
     "status": "completed"
    },
    "tags": []
   },
   "outputs": [],
   "source": [
    "#q3.hint()\n",
    "#q3.solution()"
   ]
  },
  {
   "cell_type": "markdown",
   "id": "ef704e88",
   "metadata": {
    "papermill": {
     "duration": 0.010531,
     "end_time": "2023-02-22T02:02:14.748958",
     "exception": false,
     "start_time": "2023-02-22T02:02:14.738427",
     "status": "completed"
    },
    "tags": []
   },
   "source": [
    "# 4.\n",
    "\n",
    "The function `is_negative` below is implemented correctly - it returns True if the given number is negative and False otherwise.\n",
    "\n",
    "However, it's more verbose than it needs to be. We can actually reduce the number of lines of code in this function by *75%* while keeping the same behaviour. \n",
    "\n",
    "See if you can come up with an equivalent body that uses just **one line** of code, and put it in the function `concise_is_negative`. (HINT: you don't even need Python's ternary syntax)"
   ]
  },
  {
   "cell_type": "code",
   "execution_count": 10,
   "id": "ceaa6c6c",
   "metadata": {
    "execution": {
     "iopub.execute_input": "2023-02-22T02:02:14.773230Z",
     "iopub.status.busy": "2023-02-22T02:02:14.772479Z",
     "iopub.status.idle": "2023-02-22T02:02:14.782947Z",
     "shell.execute_reply": "2023-02-22T02:02:14.781994Z"
    },
    "papermill": {
     "duration": 0.025394,
     "end_time": "2023-02-22T02:02:14.785275",
     "exception": false,
     "start_time": "2023-02-22T02:02:14.759881",
     "status": "completed"
    },
    "tags": []
   },
   "outputs": [
    {
     "data": {
      "application/javascript": [
       "parent.postMessage({\"jupyterEvent\": \"custom.exercise_interaction\", \"data\": {\"outcomeType\": 1, \"valueTowardsCompletion\": 0.2, \"interactionType\": 1, \"questionType\": 2, \"questionId\": \"4_ConciseIsNegative\", \"learnToolsVersion\": \"0.3.4\", \"failureMessage\": \"\", \"exceptionClass\": \"\", \"trace\": \"\"}}, \"*\")"
      ],
      "text/plain": [
       "<IPython.core.display.Javascript object>"
      ]
     },
     "metadata": {},
     "output_type": "display_data"
    },
    {
     "data": {
      "text/markdown": [
       "<span style=\"color:#33cc33\">Correct</span>"
      ],
      "text/plain": [
       "Correct"
      ]
     },
     "metadata": {},
     "output_type": "display_data"
    }
   ],
   "source": [
    "def is_negative(number):\n",
    "    if number < 0:\n",
    "        return True\n",
    "    else:\n",
    "        return False\n",
    "\n",
    "def concise_is_negative(number):\n",
    "    return True if number<0 else False\n",
    "\n",
    "# Check your answer\n",
    "q4.check()"
   ]
  },
  {
   "cell_type": "code",
   "execution_count": 11,
   "id": "95a5d806",
   "metadata": {
    "execution": {
     "iopub.execute_input": "2023-02-22T02:02:14.811221Z",
     "iopub.status.busy": "2023-02-22T02:02:14.810520Z",
     "iopub.status.idle": "2023-02-22T02:02:14.815443Z",
     "shell.execute_reply": "2023-02-22T02:02:14.814216Z"
    },
    "papermill": {
     "duration": 0.02125,
     "end_time": "2023-02-22T02:02:14.818146",
     "exception": false,
     "start_time": "2023-02-22T02:02:14.796896",
     "status": "completed"
    },
    "tags": []
   },
   "outputs": [],
   "source": [
    "#q4.hint()\n",
    "#q4.solution()"
   ]
  },
  {
   "cell_type": "markdown",
   "id": "9bafd1b8",
   "metadata": {
    "papermill": {
     "duration": 0.01136,
     "end_time": "2023-02-22T02:02:14.840864",
     "exception": false,
     "start_time": "2023-02-22T02:02:14.829504",
     "status": "completed"
    },
    "tags": []
   },
   "source": [
    "# 5a.\n",
    "\n",
    "The boolean variables `ketchup`, `mustard` and `onion` represent whether a customer wants a particular topping on their hot dog. We want to implement a number of boolean functions that correspond to some yes-or-no questions about the customer's order. For example:"
   ]
  },
  {
   "cell_type": "code",
   "execution_count": 12,
   "id": "113791b2",
   "metadata": {
    "execution": {
     "iopub.execute_input": "2023-02-22T02:02:14.866312Z",
     "iopub.status.busy": "2023-02-22T02:02:14.865778Z",
     "iopub.status.idle": "2023-02-22T02:02:14.871503Z",
     "shell.execute_reply": "2023-02-22T02:02:14.870257Z"
    },
    "papermill": {
     "duration": 0.020901,
     "end_time": "2023-02-22T02:02:14.873915",
     "exception": false,
     "start_time": "2023-02-22T02:02:14.853014",
     "status": "completed"
    },
    "tags": []
   },
   "outputs": [],
   "source": [
    "def onionless(ketchup, mustard, onion):\n",
    "    \"\"\"Return whether the customer doesn't want onions.\n",
    "    \"\"\"\n",
    "    return not onion"
   ]
  },
  {
   "cell_type": "code",
   "execution_count": 13,
   "id": "35dc3f31",
   "metadata": {
    "execution": {
     "iopub.execute_input": "2023-02-22T02:02:14.899056Z",
     "iopub.status.busy": "2023-02-22T02:02:14.898245Z",
     "iopub.status.idle": "2023-02-22T02:02:14.908628Z",
     "shell.execute_reply": "2023-02-22T02:02:14.907695Z"
    },
    "papermill": {
     "duration": 0.02541,
     "end_time": "2023-02-22T02:02:14.910876",
     "exception": false,
     "start_time": "2023-02-22T02:02:14.885466",
     "status": "completed"
    },
    "tags": []
   },
   "outputs": [
    {
     "data": {
      "application/javascript": [
       "parent.postMessage({\"jupyterEvent\": \"custom.exercise_interaction\", \"data\": {\"outcomeType\": 1, \"valueTowardsCompletion\": 0.2, \"interactionType\": 1, \"questionType\": 2, \"questionId\": \"5.1_AllToppings\", \"learnToolsVersion\": \"0.3.4\", \"failureMessage\": \"\", \"exceptionClass\": \"\", \"trace\": \"\"}}, \"*\")"
      ],
      "text/plain": [
       "<IPython.core.display.Javascript object>"
      ]
     },
     "metadata": {},
     "output_type": "display_data"
    },
    {
     "data": {
      "text/markdown": [
       "<span style=\"color:#33cc33\">Correct</span>"
      ],
      "text/plain": [
       "Correct"
      ]
     },
     "metadata": {},
     "output_type": "display_data"
    }
   ],
   "source": [
    "def wants_all_toppings(ketchup, mustard, onion):\n",
    "    \"\"\"Return whether the customer wants \"the works\" (all 3 toppings)\n",
    "    \"\"\"\n",
    "    return ketchup and mustard and  onion\n",
    "\n",
    "# Check your answer\n",
    "q5.a.check()"
   ]
  },
  {
   "cell_type": "code",
   "execution_count": 14,
   "id": "3a0a134f",
   "metadata": {
    "execution": {
     "iopub.execute_input": "2023-02-22T02:02:14.936567Z",
     "iopub.status.busy": "2023-02-22T02:02:14.935323Z",
     "iopub.status.idle": "2023-02-22T02:02:14.940962Z",
     "shell.execute_reply": "2023-02-22T02:02:14.939710Z"
    },
    "papermill": {
     "duration": 0.021527,
     "end_time": "2023-02-22T02:02:14.943726",
     "exception": false,
     "start_time": "2023-02-22T02:02:14.922199",
     "status": "completed"
    },
    "tags": []
   },
   "outputs": [],
   "source": [
    "#q5.a.hint()\n",
    "#q5.a.solution()"
   ]
  },
  {
   "cell_type": "markdown",
   "id": "9ff2c970",
   "metadata": {
    "papermill": {
     "duration": 0.011207,
     "end_time": "2023-02-22T02:02:14.966986",
     "exception": false,
     "start_time": "2023-02-22T02:02:14.955779",
     "status": "completed"
    },
    "tags": []
   },
   "source": [
    "# 5b.\n",
    "\n",
    "For the next function, fill in the body to match the English description in the docstring. "
   ]
  },
  {
   "cell_type": "code",
   "execution_count": 15,
   "id": "d08f2305",
   "metadata": {
    "execution": {
     "iopub.execute_input": "2023-02-22T02:02:14.992173Z",
     "iopub.status.busy": "2023-02-22T02:02:14.990919Z",
     "iopub.status.idle": "2023-02-22T02:02:15.000230Z",
     "shell.execute_reply": "2023-02-22T02:02:14.998979Z"
    },
    "papermill": {
     "duration": 0.024537,
     "end_time": "2023-02-22T02:02:15.002829",
     "exception": false,
     "start_time": "2023-02-22T02:02:14.978292",
     "status": "completed"
    },
    "tags": []
   },
   "outputs": [
    {
     "data": {
      "application/javascript": [
       "parent.postMessage({\"jupyterEvent\": \"custom.exercise_interaction\", \"data\": {\"outcomeType\": 1, \"valueTowardsCompletion\": 0.2, \"interactionType\": 1, \"questionType\": 2, \"questionId\": \"5.2_PlainDog\", \"learnToolsVersion\": \"0.3.4\", \"failureMessage\": \"\", \"exceptionClass\": \"\", \"trace\": \"\"}}, \"*\")"
      ],
      "text/plain": [
       "<IPython.core.display.Javascript object>"
      ]
     },
     "metadata": {},
     "output_type": "display_data"
    },
    {
     "data": {
      "text/markdown": [
       "<span style=\"color:#33cc33\">Correct:</span> \n",
       "\n",
       "One solution looks like:\n",
       "```python\n",
       "return not ketchup and not mustard and not onion\n",
       "```\n",
       "\n",
       "We can also [\"factor out\" the nots](https://en.wikipedia.org/wiki/De_Morgan%27s_laws) to get:\n",
       "\n",
       "```python\n",
       "return not (ketchup or mustard or onion)\n",
       "```"
      ],
      "text/plain": [
       "Correct: \n",
       "\n",
       "One solution looks like:\n",
       "```python\n",
       "return not ketchup and not mustard and not onion\n",
       "```\n",
       "\n",
       "We can also [\"factor out\" the nots](https://en.wikipedia.org/wiki/De_Morgan%27s_laws) to get:\n",
       "\n",
       "```python\n",
       "return not (ketchup or mustard or onion)\n",
       "```"
      ]
     },
     "metadata": {},
     "output_type": "display_data"
    }
   ],
   "source": [
    "def wants_plain_hotdog(ketchup, mustard, onion):\n",
    "    \"\"\"Return whether the customer wants a plain hot dog with no toppings.\n",
    "    \"\"\"\n",
    "    return not(ketchup or mustard or  onion)\n",
    "\n",
    "# Check your answer\n",
    "q5.b.check()"
   ]
  },
  {
   "cell_type": "code",
   "execution_count": 16,
   "id": "5c5916d0",
   "metadata": {
    "execution": {
     "iopub.execute_input": "2023-02-22T02:02:15.029122Z",
     "iopub.status.busy": "2023-02-22T02:02:15.028478Z",
     "iopub.status.idle": "2023-02-22T02:02:15.032320Z",
     "shell.execute_reply": "2023-02-22T02:02:15.031402Z"
    },
    "papermill": {
     "duration": 0.020081,
     "end_time": "2023-02-22T02:02:15.034753",
     "exception": false,
     "start_time": "2023-02-22T02:02:15.014672",
     "status": "completed"
    },
    "tags": []
   },
   "outputs": [],
   "source": [
    "#q5.b.hint()\n",
    "#q5.b.solution()"
   ]
  },
  {
   "cell_type": "markdown",
   "id": "a27ed149",
   "metadata": {
    "papermill": {
     "duration": 0.012033,
     "end_time": "2023-02-22T02:02:15.059273",
     "exception": false,
     "start_time": "2023-02-22T02:02:15.047240",
     "status": "completed"
    },
    "tags": []
   },
   "source": [
    "# 5c.\n",
    "\n",
    "You know what to do: for the next function, fill in the body to match the English description in the docstring."
   ]
  },
  {
   "cell_type": "code",
   "execution_count": 17,
   "id": "d4c88b55",
   "metadata": {
    "execution": {
     "iopub.execute_input": "2023-02-22T02:02:15.085061Z",
     "iopub.status.busy": "2023-02-22T02:02:15.084250Z",
     "iopub.status.idle": "2023-02-22T02:02:15.093272Z",
     "shell.execute_reply": "2023-02-22T02:02:15.092234Z"
    },
    "papermill": {
     "duration": 0.024593,
     "end_time": "2023-02-22T02:02:15.095820",
     "exception": false,
     "start_time": "2023-02-22T02:02:15.071227",
     "status": "completed"
    },
    "tags": []
   },
   "outputs": [
    {
     "data": {
      "application/javascript": [
       "parent.postMessage({\"jupyterEvent\": \"custom.exercise_interaction\", \"data\": {\"outcomeType\": 1, \"valueTowardsCompletion\": 0.2, \"interactionType\": 1, \"questionType\": 2, \"questionId\": \"5.3_OneSauce\", \"learnToolsVersion\": \"0.3.4\", \"failureMessage\": \"\", \"exceptionClass\": \"\", \"trace\": \"\"}}, \"*\")"
      ],
      "text/plain": [
       "<IPython.core.display.Javascript object>"
      ]
     },
     "metadata": {},
     "output_type": "display_data"
    },
    {
     "data": {
      "text/markdown": [
       "<span style=\"color:#33cc33\">Correct</span>"
      ],
      "text/plain": [
       "Correct"
      ]
     },
     "metadata": {},
     "output_type": "display_data"
    }
   ],
   "source": [
    "def exactly_one_sauce(ketchup, mustard, onion):\n",
    "    \"\"\"Return whether the customer wants either ketchup or mustard, but not both.\n",
    "    (You may be familiar with this operation under the name \"exclusive or\")\n",
    "    \"\"\"\n",
    "    return (ketchup or mustard) and not(ketchup and mustard)\n",
    "\n",
    "# Check your answer\n",
    "q5.c.check()"
   ]
  },
  {
   "cell_type": "code",
   "execution_count": 18,
   "id": "d22e753f",
   "metadata": {
    "execution": {
     "iopub.execute_input": "2023-02-22T02:02:15.122127Z",
     "iopub.status.busy": "2023-02-22T02:02:15.121688Z",
     "iopub.status.idle": "2023-02-22T02:02:15.126375Z",
     "shell.execute_reply": "2023-02-22T02:02:15.125016Z"
    },
    "papermill": {
     "duration": 0.020623,
     "end_time": "2023-02-22T02:02:15.128858",
     "exception": false,
     "start_time": "2023-02-22T02:02:15.108235",
     "status": "completed"
    },
    "tags": []
   },
   "outputs": [],
   "source": [
    "#q5.c.hint()\n",
    "#q5.c.solution()"
   ]
  },
  {
   "cell_type": "markdown",
   "id": "ee36e6b5",
   "metadata": {
    "papermill": {
     "duration": 0.011774,
     "end_time": "2023-02-22T02:02:15.152757",
     "exception": false,
     "start_time": "2023-02-22T02:02:15.140983",
     "status": "completed"
    },
    "tags": []
   },
   "source": [
    "# 6. <span title=\"A bit spicy\" style=\"color: darkgreen \">🌶️</span>\n",
    "\n",
    "We’ve seen that calling `bool()` on an integer returns `False` if it’s equal to 0 and `True` otherwise. What happens if we call `int()` on a bool? Try it out in the notebook cell below.\n",
    "\n",
    "Can you take advantage of this to write a succinct function that corresponds to the English sentence \"does the customer want exactly one topping?\"?"
   ]
  },
  {
   "cell_type": "code",
   "execution_count": 19,
   "id": "a1446f6e",
   "metadata": {
    "execution": {
     "iopub.execute_input": "2023-02-22T02:02:15.178329Z",
     "iopub.status.busy": "2023-02-22T02:02:15.177909Z",
     "iopub.status.idle": "2023-02-22T02:02:15.188231Z",
     "shell.execute_reply": "2023-02-22T02:02:15.186858Z"
    },
    "papermill": {
     "duration": 0.026022,
     "end_time": "2023-02-22T02:02:15.190720",
     "exception": false,
     "start_time": "2023-02-22T02:02:15.164698",
     "status": "completed"
    },
    "tags": []
   },
   "outputs": [
    {
     "data": {
      "application/javascript": [
       "parent.postMessage({\"jupyterEvent\": \"custom.exercise_interaction\", \"data\": {\"outcomeType\": 1, \"valueTowardsCompletion\": 0.2, \"interactionType\": 1, \"questionType\": 2, \"questionId\": \"6_OneTopping\", \"learnToolsVersion\": \"0.3.4\", \"failureMessage\": \"\", \"exceptionClass\": \"\", \"trace\": \"\"}}, \"*\")"
      ],
      "text/plain": [
       "<IPython.core.display.Javascript object>"
      ]
     },
     "metadata": {},
     "output_type": "display_data"
    },
    {
     "data": {
      "text/markdown": [
       "<span style=\"color:#33cc33\">Correct:</span> \n",
       "\n",
       "This condition would be pretty complicated to express using just `and`, `or` and `not`, but using boolean-to-integer conversion gives us this short solution:\n",
       "```python\n",
       "return (int(ketchup) + int(mustard) + int(onion)) == 1\n",
       "```\n",
       "\n",
       "Fun fact: we don't technically need to call `int` on the arguments. Just by doing addition with booleans, Python implicitly does the integer conversion. So we could also write...\n",
       "\n",
       "```python\n",
       "return (ketchup + mustard + onion) == 1\n",
       "```"
      ],
      "text/plain": [
       "Correct: \n",
       "\n",
       "This condition would be pretty complicated to express using just `and`, `or` and `not`, but using boolean-to-integer conversion gives us this short solution:\n",
       "```python\n",
       "return (int(ketchup) + int(mustard) + int(onion)) == 1\n",
       "```\n",
       "\n",
       "Fun fact: we don't technically need to call `int` on the arguments. Just by doing addition with booleans, Python implicitly does the integer conversion. So we could also write...\n",
       "\n",
       "```python\n",
       "return (ketchup + mustard + onion) == 1\n",
       "```"
      ]
     },
     "metadata": {},
     "output_type": "display_data"
    }
   ],
   "source": [
    "def exactly_one_topping(ketchup, mustard, onion):\n",
    "    \"\"\"Return whether the customer wants exactly one of the three available toppings\n",
    "    on their hot dog.\n",
    "    \"\"\"\n",
    "    return (int(ketchup)+int(mustard)+int(onion))==1\n",
    "\n",
    "# Check your answer\n",
    "q6.check()"
   ]
  },
  {
   "cell_type": "code",
   "execution_count": 20,
   "id": "2ba0b984",
   "metadata": {
    "execution": {
     "iopub.execute_input": "2023-02-22T02:02:15.217463Z",
     "iopub.status.busy": "2023-02-22T02:02:15.216802Z",
     "iopub.status.idle": "2023-02-22T02:02:15.221180Z",
     "shell.execute_reply": "2023-02-22T02:02:15.220266Z"
    },
    "papermill": {
     "duration": 0.020152,
     "end_time": "2023-02-22T02:02:15.223294",
     "exception": false,
     "start_time": "2023-02-22T02:02:15.203142",
     "status": "completed"
    },
    "tags": []
   },
   "outputs": [],
   "source": [
    "#q6.hint()\n",
    "#q6.solution()"
   ]
  },
  {
   "cell_type": "markdown",
   "id": "fd7e221e",
   "metadata": {
    "papermill": {
     "duration": 0.01191,
     "end_time": "2023-02-22T02:02:15.248035",
     "exception": false,
     "start_time": "2023-02-22T02:02:15.236125",
     "status": "completed"
    },
    "tags": []
   },
   "source": [
    "# 7. <span title=\"A bit spicy\" style=\"color: darkgreen \">🌶️</span> (Optional)\n",
    "\n",
    "In this problem we'll be working with a simplified version of [blackjack](https://en.wikipedia.org/wiki/Blackjack) (aka twenty-one). In this version there is one player (who you'll control) and a dealer. Play proceeds as follows:\n",
    "\n",
    "- The player is dealt two face-up cards. The dealer is dealt one face-up card.\n",
    "- The player may ask to be dealt another card ('hit') as many times as they wish. If the sum of their cards exceeds 21, they lose the round immediately.\n",
    "- The dealer then deals additional cards to himself until either:\n",
    "    - the sum of the dealer's cards exceeds 21, in which case the player wins the round\n",
    "    - the sum of the dealer's cards is greater than or equal to 17. If the player's total is greater than the dealer's, the player wins. Otherwise, the dealer wins (even in case of a tie).\n",
    "    \n",
    "When calculating the sum of cards, Jack, Queen, and King count for 10. Aces can count as 1 or 11 (when referring to a player's \"total\" above, we mean the largest total that can be made without exceeding 21. So e.g. A+8 = 19, A+8+8 = 17)\n",
    "\n",
    "For this problem, you'll write a function representing the player's decision-making strategy in this game. We've provided a very unintelligent implementation below:"
   ]
  },
  {
   "cell_type": "code",
   "execution_count": 21,
   "id": "801f9ab0",
   "metadata": {
    "execution": {
     "iopub.execute_input": "2023-02-22T02:02:15.273867Z",
     "iopub.status.busy": "2023-02-22T02:02:15.273499Z",
     "iopub.status.idle": "2023-02-22T02:02:15.279218Z",
     "shell.execute_reply": "2023-02-22T02:02:15.277833Z"
    },
    "papermill": {
     "duration": 0.021387,
     "end_time": "2023-02-22T02:02:15.281691",
     "exception": false,
     "start_time": "2023-02-22T02:02:15.260304",
     "status": "completed"
    },
    "tags": []
   },
   "outputs": [],
   "source": [
    "def should_hit(dealer_total, player_total, player_low_aces, player_high_aces):\n",
    "    \"\"\"Return True if the player should hit (request another card) given the current game\n",
    "    state, or False if the player should stay.\n",
    "    When calculating a hand's total value, we count aces as \"high\" (with value 11) if doing so\n",
    "    doesn't bring the total above 21, otherwise we count them as low (with value 1). \n",
    "    For example, if the player's hand is {A, A, A, 7}, we will count it as 11 + 1 + 1 + 7,\n",
    "    and therefore set player_total=20, player_low_aces=2, player_high_aces=1.\n",
    "    \"\"\"\n",
    "    return "
   ]
  },
  {
   "cell_type": "markdown",
   "id": "7c418cbe",
   "metadata": {
    "papermill": {
     "duration": 0.01198,
     "end_time": "2023-02-22T02:02:15.306154",
     "exception": false,
     "start_time": "2023-02-22T02:02:15.294174",
     "status": "completed"
    },
    "tags": []
   },
   "source": [
    "This very conservative agent *always* sticks with the hand of two cards that they're dealt.\n",
    "\n",
    "We'll be simulating games between your player agent and our own dealer agent by calling your function.\n",
    "\n",
    "Try running the function below to see an example of a simulated game:"
   ]
  },
  {
   "cell_type": "code",
   "execution_count": 22,
   "id": "89ed80c0",
   "metadata": {
    "execution": {
     "iopub.execute_input": "2023-02-22T02:02:15.332648Z",
     "iopub.status.busy": "2023-02-22T02:02:15.332221Z",
     "iopub.status.idle": "2023-02-22T02:02:15.338592Z",
     "shell.execute_reply": "2023-02-22T02:02:15.337212Z"
    },
    "papermill": {
     "duration": 0.022954,
     "end_time": "2023-02-22T02:02:15.341410",
     "exception": false,
     "start_time": "2023-02-22T02:02:15.318456",
     "status": "completed"
    },
    "tags": []
   },
   "outputs": [
    {
     "name": "stdout",
     "output_type": "stream",
     "text": [
      "Player starts with K and 5 (total = 15)\n",
      "Dealer starts with 6\n",
      "\n",
      "__Player's turn__\n",
      "Player stays\n",
      "\n",
      "__Dealer's turn__\n",
      "Dealer hits and receives 2. (total = 8)\n",
      "Dealer hits and receives K. (total = 18)\n",
      "Dealer stands.\n",
      "Dealer wins. 18 >= 15\n"
     ]
    }
   ],
   "source": [
    "q7.simulate_one_game()"
   ]
  },
  {
   "cell_type": "markdown",
   "id": "697e88c5",
   "metadata": {
    "papermill": {
     "duration": 0.011973,
     "end_time": "2023-02-22T02:02:15.366020",
     "exception": false,
     "start_time": "2023-02-22T02:02:15.354047",
     "status": "completed"
    },
    "tags": []
   },
   "source": [
    "The real test of your agent's mettle is their average win rate over many games. Try calling the function below to simulate 50000 games of blackjack (it may take a couple seconds):"
   ]
  },
  {
   "cell_type": "code",
   "execution_count": 23,
   "id": "6b9dda28",
   "metadata": {
    "execution": {
     "iopub.execute_input": "2023-02-22T02:02:15.392863Z",
     "iopub.status.busy": "2023-02-22T02:02:15.391753Z",
     "iopub.status.idle": "2023-02-22T02:02:17.103996Z",
     "shell.execute_reply": "2023-02-22T02:02:17.102633Z"
    },
    "papermill": {
     "duration": 1.729327,
     "end_time": "2023-02-22T02:02:17.107619",
     "exception": false,
     "start_time": "2023-02-22T02:02:15.378292",
     "status": "completed"
    },
    "tags": []
   },
   "outputs": [
    {
     "name": "stdout",
     "output_type": "stream",
     "text": [
      "Player won 19197 out of 50000 games (win rate = 38.4%)\n"
     ]
    }
   ],
   "source": [
    "q7.simulate(n_games=50000)"
   ]
  },
  {
   "cell_type": "markdown",
   "id": "5e91b2e7",
   "metadata": {
    "papermill": {
     "duration": 0.01294,
     "end_time": "2023-02-22T02:02:17.133646",
     "exception": false,
     "start_time": "2023-02-22T02:02:17.120706",
     "status": "completed"
    },
    "tags": []
   },
   "source": [
    "Our dumb agent that completely ignores the game state still manages to win shockingly often!\n",
    "\n",
    "Try adding some more smarts to the `should_hit` function and see how it affects the results."
   ]
  },
  {
   "cell_type": "code",
   "execution_count": 24,
   "id": "198ed57e",
   "metadata": {
    "execution": {
     "iopub.execute_input": "2023-02-22T02:02:17.160942Z",
     "iopub.status.busy": "2023-02-22T02:02:17.159795Z",
     "iopub.status.idle": "2023-02-22T02:02:18.902768Z",
     "shell.execute_reply": "2023-02-22T02:02:18.901092Z"
    },
    "papermill": {
     "duration": 1.759483,
     "end_time": "2023-02-22T02:02:18.905619",
     "exception": false,
     "start_time": "2023-02-22T02:02:17.146136",
     "status": "completed"
    },
    "tags": []
   },
   "outputs": [
    {
     "name": "stdout",
     "output_type": "stream",
     "text": [
      "Player won 19001 out of 50000 games (win rate = 38.0%)\n"
     ]
    }
   ],
   "source": [
    "def should_hit(dealer_total, player_total, player_low_aces, player_high_aces):\n",
    "    \"\"\"Return True if the player should hit (request another card) given the current game\n",
    "    state, or False if the player should stay.\n",
    "    When calculating a hand's total value, we count aces as \"high\" (with value 11) if doing so\n",
    "    doesn't bring the total above 21, otherwise we count them as low (with value 1). \n",
    "    For example, if the player's hand is {A, A, A, 7}, we will count it as 11 + 1 + 1 + 7,\n",
    "    and therefore set player_total=20, player_low_aces=2, player_high_aces=1.\n",
    "    \"\"\"\n",
    "    return False\n",
    "\n",
    "q7.simulate(n_games=50000)"
   ]
  },
  {
   "cell_type": "markdown",
   "id": "dac41b09",
   "metadata": {
    "papermill": {
     "duration": 0.012588,
     "end_time": "2023-02-22T02:02:18.930917",
     "exception": false,
     "start_time": "2023-02-22T02:02:18.918329",
     "status": "completed"
    },
    "tags": []
   },
   "source": [
    "# Keep Going\n",
    "\n",
    "Learn about **[lists and tuples](https://www.kaggle.com/colinmorris/lists)** to handle multiple items of data in a systematic way."
   ]
  },
  {
   "cell_type": "markdown",
   "id": "01c7c772",
   "metadata": {
    "papermill": {
     "duration": 0.012126,
     "end_time": "2023-02-22T02:02:18.955430",
     "exception": false,
     "start_time": "2023-02-22T02:02:18.943304",
     "status": "completed"
    },
    "tags": []
   },
   "source": [
    "---\n",
    "\n",
    "\n",
    "\n",
    "\n",
    "*Have questions or comments? Visit the [course discussion forum](https://www.kaggle.com/learn/python/discussion) to chat with other learners.*"
   ]
  }
 ],
 "metadata": {
  "kernelspec": {
   "display_name": "Python 3",
   "language": "python",
   "name": "python3"
  },
  "language_info": {
   "codemirror_mode": {
    "name": "ipython",
    "version": 3
   },
   "file_extension": ".py",
   "mimetype": "text/x-python",
   "name": "python",
   "nbconvert_exporter": "python",
   "pygments_lexer": "ipython3",
   "version": "3.7.12"
  },
  "papermill": {
   "default_parameters": {},
   "duration": 14.658561,
   "end_time": "2023-02-22T02:02:19.589847",
   "environment_variables": {},
   "exception": null,
   "input_path": "__notebook__.ipynb",
   "output_path": "__notebook__.ipynb",
   "parameters": {},
   "start_time": "2023-02-22T02:02:04.931286",
   "version": "2.3.4"
  }
 },
 "nbformat": 4,
 "nbformat_minor": 5
}
