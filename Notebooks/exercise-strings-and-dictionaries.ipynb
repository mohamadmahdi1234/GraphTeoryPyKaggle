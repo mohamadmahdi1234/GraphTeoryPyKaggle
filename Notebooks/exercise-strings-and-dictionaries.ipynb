{
 "cells": [
  {
   "cell_type": "markdown",
   "id": "e04a7b2a",
   "metadata": {
    "papermill": {
     "duration": 0.009629,
     "end_time": "2023-02-22T02:04:41.062468",
     "exception": false,
     "start_time": "2023-02-22T02:04:41.052839",
     "status": "completed"
    },
    "tags": []
   },
   "source": [
    "**This notebook is an exercise in the [Python](https://www.kaggle.com/learn/python) course.  You can reference the tutorial at [this link](https://www.kaggle.com/colinmorris/strings-and-dictionaries).**\n",
    "\n",
    "---\n"
   ]
  },
  {
   "cell_type": "markdown",
   "id": "33a7f1b8",
   "metadata": {
    "papermill": {
     "duration": 0.005007,
     "end_time": "2023-02-22T02:04:41.073082",
     "exception": false,
     "start_time": "2023-02-22T02:04:41.068075",
     "status": "completed"
    },
    "tags": []
   },
   "source": [
    "You are almost done with the course. Nice job!\n",
    "\n",
    "We have a couple more interesting problems for you before you go. \n",
    "\n",
    "As always, run the setup code below before working on the questions."
   ]
  },
  {
   "cell_type": "code",
   "execution_count": 1,
   "id": "b90a4010",
   "metadata": {
    "execution": {
     "iopub.execute_input": "2023-02-22T02:04:41.086507Z",
     "iopub.status.busy": "2023-02-22T02:04:41.085475Z",
     "iopub.status.idle": "2023-02-22T02:04:41.147277Z",
     "shell.execute_reply": "2023-02-22T02:04:41.146470Z"
    },
    "papermill": {
     "duration": 0.072406,
     "end_time": "2023-02-22T02:04:41.150818",
     "exception": false,
     "start_time": "2023-02-22T02:04:41.078412",
     "status": "completed"
    },
    "tags": []
   },
   "outputs": [
    {
     "name": "stdout",
     "output_type": "stream",
     "text": [
      "Setup complete.\n"
     ]
    }
   ],
   "source": [
    "from learntools.core import binder; binder.bind(globals())\n",
    "from learntools.python.ex6 import *\n",
    "print('Setup complete.')"
   ]
  },
  {
   "cell_type": "markdown",
   "id": "e65f0022",
   "metadata": {
    "papermill": {
     "duration": 0.005385,
     "end_time": "2023-02-22T02:04:41.162778",
     "exception": false,
     "start_time": "2023-02-22T02:04:41.157393",
     "status": "completed"
    },
    "tags": []
   },
   "source": [
    "Let's start with a string lightning round to warm up. What are the lengths of the strings below?\n",
    "\n",
    "For each of the five strings below, predict what `len()` would return when passed that string. Use the variable `length` to record your answer, then run the cell to check whether you were right.  \n",
    "\n",
    "# 0a."
   ]
  },
  {
   "cell_type": "code",
   "execution_count": 2,
   "id": "8b7de701",
   "metadata": {
    "execution": {
     "iopub.execute_input": "2023-02-22T02:04:41.175729Z",
     "iopub.status.busy": "2023-02-22T02:04:41.174967Z",
     "iopub.status.idle": "2023-02-22T02:04:41.184976Z",
     "shell.execute_reply": "2023-02-22T02:04:41.183856Z"
    },
    "papermill": {
     "duration": 0.018946,
     "end_time": "2023-02-22T02:04:41.187097",
     "exception": false,
     "start_time": "2023-02-22T02:04:41.168151",
     "status": "completed"
    },
    "tags": []
   },
   "outputs": [
    {
     "data": {
      "application/javascript": [
       "parent.postMessage({\"jupyterEvent\": \"custom.exercise_interaction\", \"data\": {\"outcomeType\": 1, \"valueTowardsCompletion\": 0.3333333333333333, \"interactionType\": 1, \"questionType\": 1, \"questionId\": \"0.1_ZA\", \"learnToolsVersion\": \"0.3.4\", \"failureMessage\": \"\", \"exceptionClass\": \"\", \"trace\": \"\"}}, \"*\")"
      ],
      "text/plain": [
       "<IPython.core.display.Javascript object>"
      ]
     },
     "metadata": {},
     "output_type": "display_data"
    },
    {
     "data": {
      "text/markdown": [
       "<span style=\"color:#33cc33\">Correct:</span> \n",
       "\n",
       "The empty string has length zero. Note that the empty string is also the only string that Python considers as False when converting to boolean."
      ],
      "text/plain": [
       "Correct: \n",
       "\n",
       "The empty string has length zero. Note that the empty string is also the only string that Python considers as False when converting to boolean."
      ]
     },
     "metadata": {},
     "output_type": "display_data"
    }
   ],
   "source": [
    "a = \"\"\n",
    "length =0\n",
    "q0.a.check()"
   ]
  },
  {
   "cell_type": "markdown",
   "id": "bf530b67",
   "metadata": {
    "papermill": {
     "duration": 0.005223,
     "end_time": "2023-02-22T02:04:41.197928",
     "exception": false,
     "start_time": "2023-02-22T02:04:41.192705",
     "status": "completed"
    },
    "tags": []
   },
   "source": [
    "# 0b."
   ]
  },
  {
   "cell_type": "code",
   "execution_count": 3,
   "id": "322a2c76",
   "metadata": {
    "execution": {
     "iopub.execute_input": "2023-02-22T02:04:41.211038Z",
     "iopub.status.busy": "2023-02-22T02:04:41.210438Z",
     "iopub.status.idle": "2023-02-22T02:04:41.220299Z",
     "shell.execute_reply": "2023-02-22T02:04:41.219126Z"
    },
    "papermill": {
     "duration": 0.019076,
     "end_time": "2023-02-22T02:04:41.222542",
     "exception": false,
     "start_time": "2023-02-22T02:04:41.203466",
     "status": "completed"
    },
    "tags": []
   },
   "outputs": [
    {
     "data": {
      "application/javascript": [
       "parent.postMessage({\"jupyterEvent\": \"custom.exercise_interaction\", \"data\": {\"outcomeType\": 1, \"valueTowardsCompletion\": 0.3333333333333333, \"interactionType\": 1, \"questionType\": 1, \"questionId\": \"0.2_ZB\", \"learnToolsVersion\": \"0.3.4\", \"failureMessage\": \"\", \"exceptionClass\": \"\", \"trace\": \"\"}}, \"*\")"
      ],
      "text/plain": [
       "<IPython.core.display.Javascript object>"
      ]
     },
     "metadata": {},
     "output_type": "display_data"
    },
    {
     "data": {
      "text/markdown": [
       "<span style=\"color:#33cc33\">Correct:</span> \n",
       "\n",
       "Keep in mind Python includes spaces (and punctuation) when counting string length."
      ],
      "text/plain": [
       "Correct: \n",
       "\n",
       "Keep in mind Python includes spaces (and punctuation) when counting string length."
      ]
     },
     "metadata": {},
     "output_type": "display_data"
    }
   ],
   "source": [
    "b = \"it's ok\"\n",
    "length =7\n",
    "q0.b.check()"
   ]
  },
  {
   "cell_type": "markdown",
   "id": "a29301ec",
   "metadata": {
    "papermill": {
     "duration": 0.00562,
     "end_time": "2023-02-22T02:04:41.234324",
     "exception": false,
     "start_time": "2023-02-22T02:04:41.228704",
     "status": "completed"
    },
    "tags": []
   },
   "source": [
    "# 0c."
   ]
  },
  {
   "cell_type": "code",
   "execution_count": 4,
   "id": "fae1c516",
   "metadata": {
    "execution": {
     "iopub.execute_input": "2023-02-22T02:04:41.248170Z",
     "iopub.status.busy": "2023-02-22T02:04:41.247508Z",
     "iopub.status.idle": "2023-02-22T02:04:41.256497Z",
     "shell.execute_reply": "2023-02-22T02:04:41.255600Z"
    },
    "papermill": {
     "duration": 0.018526,
     "end_time": "2023-02-22T02:04:41.258635",
     "exception": false,
     "start_time": "2023-02-22T02:04:41.240109",
     "status": "completed"
    },
    "tags": []
   },
   "outputs": [
    {
     "data": {
      "application/javascript": [
       "parent.postMessage({\"jupyterEvent\": \"custom.exercise_interaction\", \"data\": {\"outcomeType\": 1, \"valueTowardsCompletion\": 0.3333333333333333, \"interactionType\": 1, \"questionType\": 1, \"questionId\": \"0.3_ZC\", \"learnToolsVersion\": \"0.3.4\", \"failureMessage\": \"\", \"exceptionClass\": \"\", \"trace\": \"\"}}, \"*\")"
      ],
      "text/plain": [
       "<IPython.core.display.Javascript object>"
      ]
     },
     "metadata": {},
     "output_type": "display_data"
    },
    {
     "data": {
      "text/markdown": [
       "<span style=\"color:#33cc33\">Correct:</span> \n",
       "\n",
       "Even though we use different syntax to create it, the string `c` is identical to `b`. In particular, note that the backslash is not part of the string, so it doesn't contribute to its length."
      ],
      "text/plain": [
       "Correct: \n",
       "\n",
       "Even though we use different syntax to create it, the string `c` is identical to `b`. In particular, note that the backslash is not part of the string, so it doesn't contribute to its length."
      ]
     },
     "metadata": {},
     "output_type": "display_data"
    }
   ],
   "source": [
    "c = 'it\\'s ok'\n",
    "length = 7\n",
    "q0.c.check()"
   ]
  },
  {
   "cell_type": "markdown",
   "id": "6b20b632",
   "metadata": {
    "papermill": {
     "duration": 0.00595,
     "end_time": "2023-02-22T02:04:41.270627",
     "exception": false,
     "start_time": "2023-02-22T02:04:41.264677",
     "status": "completed"
    },
    "tags": []
   },
   "source": [
    "# 0d."
   ]
  },
  {
   "cell_type": "code",
   "execution_count": 5,
   "id": "27fcf29f",
   "metadata": {
    "execution": {
     "iopub.execute_input": "2023-02-22T02:04:41.285359Z",
     "iopub.status.busy": "2023-02-22T02:04:41.284699Z",
     "iopub.status.idle": "2023-02-22T02:04:41.294075Z",
     "shell.execute_reply": "2023-02-22T02:04:41.293188Z"
    },
    "papermill": {
     "duration": 0.019507,
     "end_time": "2023-02-22T02:04:41.296243",
     "exception": false,
     "start_time": "2023-02-22T02:04:41.276736",
     "status": "completed"
    },
    "tags": []
   },
   "outputs": [
    {
     "data": {
      "application/javascript": [
       "parent.postMessage({\"jupyterEvent\": \"custom.exercise_interaction\", \"data\": {\"outcomeType\": 1, \"valueTowardsCompletion\": 0.3333333333333333, \"interactionType\": 1, \"questionType\": 1, \"questionId\": \"0.4_ZD\", \"learnToolsVersion\": \"0.3.4\", \"failureMessage\": \"\", \"exceptionClass\": \"\", \"trace\": \"\"}}, \"*\")"
      ],
      "text/plain": [
       "<IPython.core.display.Javascript object>"
      ]
     },
     "metadata": {},
     "output_type": "display_data"
    },
    {
     "data": {
      "text/markdown": [
       "<span style=\"color:#33cc33\">Correct:</span> \n",
       "\n",
       "The fact that this string was created using triple-quote syntax doesn't make any difference in terms of its content or length. This string is exactly the same as `'hey'`."
      ],
      "text/plain": [
       "Correct: \n",
       "\n",
       "The fact that this string was created using triple-quote syntax doesn't make any difference in terms of its content or length. This string is exactly the same as `'hey'`."
      ]
     },
     "metadata": {},
     "output_type": "display_data"
    }
   ],
   "source": [
    "d = \"\"\"hey\"\"\"\n",
    "length =3\n",
    "q0.d.check()"
   ]
  },
  {
   "cell_type": "markdown",
   "id": "5bd7fb48",
   "metadata": {
    "papermill": {
     "duration": 0.005981,
     "end_time": "2023-02-22T02:04:41.308631",
     "exception": false,
     "start_time": "2023-02-22T02:04:41.302650",
     "status": "completed"
    },
    "tags": []
   },
   "source": [
    "# 0e."
   ]
  },
  {
   "cell_type": "code",
   "execution_count": 6,
   "id": "da4edc49",
   "metadata": {
    "execution": {
     "iopub.execute_input": "2023-02-22T02:04:41.323288Z",
     "iopub.status.busy": "2023-02-22T02:04:41.322639Z",
     "iopub.status.idle": "2023-02-22T02:04:41.331826Z",
     "shell.execute_reply": "2023-02-22T02:04:41.330788Z"
    },
    "papermill": {
     "duration": 0.019165,
     "end_time": "2023-02-22T02:04:41.333997",
     "exception": false,
     "start_time": "2023-02-22T02:04:41.314832",
     "status": "completed"
    },
    "tags": []
   },
   "outputs": [
    {
     "data": {
      "application/javascript": [
       "parent.postMessage({\"jupyterEvent\": \"custom.exercise_interaction\", \"data\": {\"outcomeType\": 1, \"valueTowardsCompletion\": 0.3333333333333333, \"interactionType\": 1, \"questionType\": 1, \"questionId\": \"0.5_ZE\", \"learnToolsVersion\": \"0.3.4\", \"failureMessage\": \"\", \"exceptionClass\": \"\", \"trace\": \"\"}}, \"*\")"
      ],
      "text/plain": [
       "<IPython.core.display.Javascript object>"
      ]
     },
     "metadata": {},
     "output_type": "display_data"
    },
    {
     "data": {
      "text/markdown": [
       "<span style=\"color:#33cc33\">Correct:</span> \n",
       "\n",
       "The newline character is just a single character! (Even though we represent it to Python using a combination of two characters.)"
      ],
      "text/plain": [
       "Correct: \n",
       "\n",
       "The newline character is just a single character! (Even though we represent it to Python using a combination of two characters.)"
      ]
     },
     "metadata": {},
     "output_type": "display_data"
    }
   ],
   "source": [
    "e = '\\n'\n",
    "length =1\n",
    "q0.e.check()"
   ]
  },
  {
   "cell_type": "markdown",
   "id": "83748973",
   "metadata": {
    "papermill": {
     "duration": 0.006386,
     "end_time": "2023-02-22T02:04:41.347777",
     "exception": false,
     "start_time": "2023-02-22T02:04:41.341391",
     "status": "completed"
    },
    "tags": []
   },
   "source": [
    "# 1.\n",
    "\n",
    "There is a saying that \"Data scientists spend 80% of their time cleaning data, and 20% of their time complaining about cleaning data.\" Let's see if you can write a function to help clean US zip code data. Given a string, it should return whether or not that string represents a valid zip code. For our purposes, a valid zip code is any string consisting of exactly 5 digits.\n",
    "\n",
    "HINT: `str` has a method that will be useful here. Use `help(str)` to review a list of string methods."
   ]
  },
  {
   "cell_type": "code",
   "execution_count": 7,
   "id": "215af7ad",
   "metadata": {
    "execution": {
     "iopub.execute_input": "2023-02-22T02:04:41.363243Z",
     "iopub.status.busy": "2023-02-22T02:04:41.362597Z",
     "iopub.status.idle": "2023-02-22T02:04:41.371340Z",
     "shell.execute_reply": "2023-02-22T02:04:41.370629Z"
    },
    "papermill": {
     "duration": 0.019032,
     "end_time": "2023-02-22T02:04:41.373330",
     "exception": false,
     "start_time": "2023-02-22T02:04:41.354298",
     "status": "completed"
    },
    "tags": []
   },
   "outputs": [
    {
     "data": {
      "application/javascript": [
       "parent.postMessage({\"jupyterEvent\": \"custom.exercise_interaction\", \"data\": {\"outcomeType\": 1, \"valueTowardsCompletion\": 0.3333333333333333, \"interactionType\": 1, \"questionType\": 2, \"questionId\": \"1_ZipValidator\", \"learnToolsVersion\": \"0.3.4\", \"failureMessage\": \"\", \"exceptionClass\": \"\", \"trace\": \"\"}}, \"*\")"
      ],
      "text/plain": [
       "<IPython.core.display.Javascript object>"
      ]
     },
     "metadata": {},
     "output_type": "display_data"
    },
    {
     "data": {
      "text/markdown": [
       "<span style=\"color:#33cc33\">Correct</span>"
      ],
      "text/plain": [
       "Correct"
      ]
     },
     "metadata": {},
     "output_type": "display_data"
    }
   ],
   "source": [
    "def is_valid_zip(zip_code):\n",
    "    \"\"\"Returns whether the input string is a valid (5 digit) zip code\n",
    "    \"\"\"\n",
    "    return len(zip_code)==5 and zip_code.isnumeric()\n",
    "\n",
    "# Check your answer\n",
    "q1.check()"
   ]
  },
  {
   "cell_type": "code",
   "execution_count": 8,
   "id": "1797ec1a",
   "metadata": {
    "execution": {
     "iopub.execute_input": "2023-02-22T02:04:41.389140Z",
     "iopub.status.busy": "2023-02-22T02:04:41.388460Z",
     "iopub.status.idle": "2023-02-22T02:04:41.393492Z",
     "shell.execute_reply": "2023-02-22T02:04:41.392205Z"
    },
    "papermill": {
     "duration": 0.015591,
     "end_time": "2023-02-22T02:04:41.395842",
     "exception": false,
     "start_time": "2023-02-22T02:04:41.380251",
     "status": "completed"
    },
    "tags": []
   },
   "outputs": [],
   "source": [
    "#q1.hint()\n",
    "#q1.solution()"
   ]
  },
  {
   "cell_type": "markdown",
   "id": "b6f6ae72",
   "metadata": {
    "papermill": {
     "duration": 0.006755,
     "end_time": "2023-02-22T02:04:41.409685",
     "exception": false,
     "start_time": "2023-02-22T02:04:41.402930",
     "status": "completed"
    },
    "tags": []
   },
   "source": [
    "# 2.\n",
    "\n",
    "A researcher has gathered thousands of news articles. But she wants to focus her attention on articles including a specific word. Complete the function below to help her filter her list of articles.\n",
    "\n",
    "Your function should meet the following criteria:\n",
    "\n",
    "- Do not include documents where the keyword string shows up only as a part of a larger word. For example, if she were looking for the keyword “closed”, you would not include the string “enclosed.” \n",
    "- She does not want you to distinguish upper case from lower case letters. So the phrase “Closed the case.” would be included when the keyword is “closed”\n",
    "- Do not let periods or commas affect what is matched. “It is closed.” would be included when the keyword is “closed”. But you can assume there are no other types of punctuation."
   ]
  },
  {
   "cell_type": "code",
   "execution_count": 9,
   "id": "de68d081",
   "metadata": {
    "execution": {
     "iopub.execute_input": "2023-02-22T02:04:41.426723Z",
     "iopub.status.busy": "2023-02-22T02:04:41.426081Z",
     "iopub.status.idle": "2023-02-22T02:04:41.442045Z",
     "shell.execute_reply": "2023-02-22T02:04:41.440955Z"
    },
    "papermill": {
     "duration": 0.027648,
     "end_time": "2023-02-22T02:04:41.444510",
     "exception": false,
     "start_time": "2023-02-22T02:04:41.416862",
     "status": "completed"
    },
    "tags": []
   },
   "outputs": [
    {
     "data": {
      "application/javascript": [
       "parent.postMessage({\"jupyterEvent\": \"custom.exercise_interaction\", \"data\": {\"outcomeType\": 1, \"valueTowardsCompletion\": 0.3333333333333333, \"interactionType\": 1, \"questionType\": 2, \"questionId\": \"2_WordSearch\", \"learnToolsVersion\": \"0.3.4\", \"failureMessage\": \"\", \"exceptionClass\": \"\", \"trace\": \"\"}}, \"*\")"
      ],
      "text/plain": [
       "<IPython.core.display.Javascript object>"
      ]
     },
     "metadata": {},
     "output_type": "display_data"
    },
    {
     "data": {
      "text/markdown": [
       "<span style=\"color:#33cc33\">Correct</span>"
      ],
      "text/plain": [
       "Correct"
      ]
     },
     "metadata": {},
     "output_type": "display_data"
    }
   ],
   "source": [
    "def word_search(doc_list, keyword):\n",
    "    \"\"\"\n",
    "    Takes a list of documents (each document is a string) and a keyword. \n",
    "    Returns list of the index values into the original list for all documents \n",
    "    containing the keyword.\n",
    "\n",
    "    Example:\n",
    "    doc_list = [\"The Learn Python Challenge Casino.\", \"They bought a car\", \"Casinoville\"]\n",
    "    >>> word_search(doc_list, 'casino')\n",
    "    >>> [0]\n",
    "    \"\"\"\n",
    "    indexes = []\n",
    "    for i, doc in enumerate(doc_list):\n",
    "        n = [token.rstrip('.,').lower() for token in doc.split(\" \")]\n",
    "        if keyword.lower() in n:\n",
    "            indexes.append(i)\n",
    "    return indexes\n",
    "\n",
    "# Check your answer\n",
    "q2.check()"
   ]
  },
  {
   "cell_type": "code",
   "execution_count": 10,
   "id": "4a51d5cb",
   "metadata": {
    "execution": {
     "iopub.execute_input": "2023-02-22T02:04:41.460417Z",
     "iopub.status.busy": "2023-02-22T02:04:41.460036Z",
     "iopub.status.idle": "2023-02-22T02:04:41.464734Z",
     "shell.execute_reply": "2023-02-22T02:04:41.463417Z"
    },
    "papermill": {
     "duration": 0.015354,
     "end_time": "2023-02-22T02:04:41.467006",
     "exception": false,
     "start_time": "2023-02-22T02:04:41.451652",
     "status": "completed"
    },
    "tags": []
   },
   "outputs": [],
   "source": [
    "#q2.hint()\n",
    "#q2.solution()"
   ]
  },
  {
   "cell_type": "markdown",
   "id": "99277c01",
   "metadata": {
    "papermill": {
     "duration": 0.006869,
     "end_time": "2023-02-22T02:04:41.481164",
     "exception": false,
     "start_time": "2023-02-22T02:04:41.474295",
     "status": "completed"
    },
    "tags": []
   },
   "source": [
    "# 3.\n",
    "\n",
    "Now the researcher wants to supply multiple keywords to search for. Complete the function below to help her.\n",
    "\n",
    "(You're encouraged to use the `word_search` function you just wrote when implementing this function. Reusing code in this way makes your programs more robust and readable - and it saves typing!)"
   ]
  },
  {
   "cell_type": "code",
   "execution_count": 11,
   "id": "d608d814",
   "metadata": {
    "execution": {
     "iopub.execute_input": "2023-02-22T02:04:41.497077Z",
     "iopub.status.busy": "2023-02-22T02:04:41.496700Z",
     "iopub.status.idle": "2023-02-22T02:04:41.506368Z",
     "shell.execute_reply": "2023-02-22T02:04:41.505584Z"
    },
    "papermill": {
     "duration": 0.020215,
     "end_time": "2023-02-22T02:04:41.508486",
     "exception": false,
     "start_time": "2023-02-22T02:04:41.488271",
     "status": "completed"
    },
    "tags": []
   },
   "outputs": [
    {
     "data": {
      "application/javascript": [
       "parent.postMessage({\"jupyterEvent\": \"custom.exercise_interaction\", \"data\": {\"outcomeType\": 1, \"valueTowardsCompletion\": 0.3333333333333333, \"interactionType\": 1, \"questionType\": 2, \"questionId\": \"3_MultiWordSearch\", \"learnToolsVersion\": \"0.3.4\", \"failureMessage\": \"\", \"exceptionClass\": \"\", \"trace\": \"\"}}, \"*\")"
      ],
      "text/plain": [
       "<IPython.core.display.Javascript object>"
      ]
     },
     "metadata": {},
     "output_type": "display_data"
    },
    {
     "data": {
      "text/markdown": [
       "<span style=\"color:#33cc33\">Correct</span>"
      ],
      "text/plain": [
       "Correct"
      ]
     },
     "metadata": {},
     "output_type": "display_data"
    }
   ],
   "source": [
    "def multi_word_search(doc_list, keywords):\n",
    "    \"\"\"\n",
    "    Takes list of documents (each document is a string) and a list of keywords.  \n",
    "    Returns a dictionary where each key is a keyword, and the value is a list of indices\n",
    "    (from doc_list) of the documents containing that keyword\n",
    "\n",
    "    >>> doc_list = [\"The Learn Python Challenge Casino.\", \"They bought a car and a casino\", \"Casinoville\"]\n",
    "    >>> keywords = ['casino', 'they']\n",
    "    >>> multi_word_search(doc_list, keywords)\n",
    "    {'casino': [0, 1], 'they': [1]}\n",
    "    \"\"\"\n",
    "    \n",
    "    d={k: word_search(doc_list,k) for k in keywords}\n",
    "    return d    \n",
    "\n",
    "# Check your answer\n",
    "q3.check()"
   ]
  },
  {
   "cell_type": "code",
   "execution_count": 12,
   "id": "465e80b9",
   "metadata": {
    "execution": {
     "iopub.execute_input": "2023-02-22T02:04:41.525933Z",
     "iopub.status.busy": "2023-02-22T02:04:41.525259Z",
     "iopub.status.idle": "2023-02-22T02:04:41.529544Z",
     "shell.execute_reply": "2023-02-22T02:04:41.528710Z"
    },
    "papermill": {
     "duration": 0.015559,
     "end_time": "2023-02-22T02:04:41.531648",
     "exception": false,
     "start_time": "2023-02-22T02:04:41.516089",
     "status": "completed"
    },
    "tags": []
   },
   "outputs": [],
   "source": [
    "#q3.solution()"
   ]
  },
  {
   "cell_type": "markdown",
   "id": "94825e0c",
   "metadata": {
    "papermill": {
     "duration": 0.007361,
     "end_time": "2023-02-22T02:04:41.546678",
     "exception": false,
     "start_time": "2023-02-22T02:04:41.539317",
     "status": "completed"
    },
    "tags": []
   },
   "source": [
    "# Keep Going\n",
    "\n",
    "You've learned a lot. But even the best programmers rely heavily on \"libraries\" of code from other programmers. You'll learn about that in **[the last lesson](https://www.kaggle.com/colinmorris/working-with-external-libraries)**.\n"
   ]
  },
  {
   "cell_type": "markdown",
   "id": "18d2c6a7",
   "metadata": {
    "papermill": {
     "duration": 0.007305,
     "end_time": "2023-02-22T02:04:41.561849",
     "exception": false,
     "start_time": "2023-02-22T02:04:41.554544",
     "status": "completed"
    },
    "tags": []
   },
   "source": [
    "---\n",
    "\n",
    "\n",
    "\n",
    "\n",
    "*Have questions or comments? Visit the [course discussion forum](https://www.kaggle.com/learn/python/discussion) to chat with other learners.*"
   ]
  }
 ],
 "metadata": {
  "kernelspec": {
   "display_name": "Python 3",
   "language": "python",
   "name": "python3"
  },
  "language_info": {
   "codemirror_mode": {
    "name": "ipython",
    "version": 3
   },
   "file_extension": ".py",
   "mimetype": "text/x-python",
   "name": "python",
   "nbconvert_exporter": "python",
   "pygments_lexer": "ipython3",
   "version": "3.7.12"
  },
  "papermill": {
   "default_parameters": {},
   "duration": 11.191165,
   "end_time": "2023-02-22T02:04:42.291628",
   "environment_variables": {},
   "exception": null,
   "input_path": "__notebook__.ipynb",
   "output_path": "__notebook__.ipynb",
   "parameters": {},
   "start_time": "2023-02-22T02:04:31.100463",
   "version": "2.3.4"
  }
 },
 "nbformat": 4,
 "nbformat_minor": 5
}
