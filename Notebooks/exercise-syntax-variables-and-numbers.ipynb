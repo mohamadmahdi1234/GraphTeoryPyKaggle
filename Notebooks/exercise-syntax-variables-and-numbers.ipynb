{
 "cells": [
  {
   "cell_type": "markdown",
   "id": "00e65249",
   "metadata": {
    "papermill": {
     "duration": 0.006461,
     "end_time": "2023-02-22T02:00:46.298818",
     "exception": false,
     "start_time": "2023-02-22T02:00:46.292357",
     "status": "completed"
    },
    "tags": []
   },
   "source": [
    "**This notebook is an exercise in the [Python](https://www.kaggle.com/learn/python) course.  You can reference the tutorial at [this link](https://www.kaggle.com/colinmorris/hello-python).**\n",
    "\n",
    "---\n"
   ]
  },
  {
   "cell_type": "markdown",
   "id": "4f151531",
   "metadata": {
    "papermill": {
     "duration": 0.005244,
     "end_time": "2023-02-22T02:00:46.309692",
     "exception": false,
     "start_time": "2023-02-22T02:00:46.304448",
     "status": "completed"
    },
    "tags": []
   },
   "source": [
    "Welcome to your first set of Python coding problems.  If this is your first time using Kaggle Notebooks, welcome! \n",
    "\n",
    "Notebooks are composed of blocks (called \"cells\") of text and code. Each of these is editable, though you'll mainly be editing the code cells to answer some questions.\n",
    "\n",
    "To get started, try running the code cell below (by pressing the ► button, or clicking on the cell and pressing ctrl+enter on your keyboard)."
   ]
  },
  {
   "cell_type": "code",
   "execution_count": 1,
   "id": "2b2c7167",
   "metadata": {
    "execution": {
     "iopub.execute_input": "2023-02-22T02:00:46.322596Z",
     "iopub.status.busy": "2023-02-22T02:00:46.321925Z",
     "iopub.status.idle": "2023-02-22T02:00:46.331006Z",
     "shell.execute_reply": "2023-02-22T02:00:46.329806Z"
    },
    "papermill": {
     "duration": 0.017731,
     "end_time": "2023-02-22T02:00:46.332849",
     "exception": false,
     "start_time": "2023-02-22T02:00:46.315118",
     "status": "completed"
    },
    "tags": []
   },
   "outputs": [
    {
     "name": "stdout",
     "output_type": "stream",
     "text": [
      "You've successfully run some Python code\n",
      "Congratulations!\n"
     ]
    }
   ],
   "source": [
    "print(\"You've successfully run some Python code\")\n",
    "print(\"Congratulations!\")"
   ]
  },
  {
   "cell_type": "code",
   "execution_count": 2,
   "id": "75a17ffa",
   "metadata": {
    "execution": {
     "iopub.execute_input": "2023-02-22T02:00:46.345601Z",
     "iopub.status.busy": "2023-02-22T02:00:46.344897Z",
     "iopub.status.idle": "2023-02-22T02:00:46.350226Z",
     "shell.execute_reply": "2023-02-22T02:00:46.349054Z"
    },
    "papermill": {
     "duration": 0.013967,
     "end_time": "2023-02-22T02:00:46.352495",
     "exception": false,
     "start_time": "2023-02-22T02:00:46.338528",
     "status": "completed"
    },
    "tags": []
   },
   "outputs": [
    {
     "name": "stdout",
     "output_type": "stream",
     "text": [
      "new cell\n"
     ]
    }
   ],
   "source": [
    "print(\"new cell\")"
   ]
  },
  {
   "cell_type": "markdown",
   "id": "31e9514f",
   "metadata": {
    "papermill": {
     "duration": 0.00599,
     "end_time": "2023-02-22T02:00:46.364767",
     "exception": false,
     "start_time": "2023-02-22T02:00:46.358777",
     "status": "completed"
    },
    "tags": []
   },
   "source": [
    "Try adding another line of code in the cell above and re-running it. \n",
    "\n",
    "Now let's get a little fancier:  Add a new code cell by clicking on an existing code cell, hitting the escape key, and then hitting the `a` or `b` key.  The `a` key will add a cell above the current cell, and `b` adds a cell below.\n",
    "\n",
    "Great! Now you know how to use Notebooks.\n",
    "\n",
    "Each hands-on exercise starts by setting up our feedback and code checking mechanism. Run the code cell below to do that. Then you'll be ready to move on to question 0."
   ]
  },
  {
   "cell_type": "code",
   "execution_count": 3,
   "id": "9a3f0675",
   "metadata": {
    "_kg_hide-input": true,
    "_kg_hide-output": true,
    "execution": {
     "iopub.execute_input": "2023-02-22T02:00:46.378088Z",
     "iopub.status.busy": "2023-02-22T02:00:46.377571Z",
     "iopub.status.idle": "2023-02-22T02:00:46.415774Z",
     "shell.execute_reply": "2023-02-22T02:00:46.414617Z"
    },
    "papermill": {
     "duration": 0.046888,
     "end_time": "2023-02-22T02:00:46.417658",
     "exception": false,
     "start_time": "2023-02-22T02:00:46.370770",
     "status": "completed"
    },
    "tags": []
   },
   "outputs": [
    {
     "name": "stdout",
     "output_type": "stream",
     "text": [
      "Setup complete! You're ready to start question 0.\n"
     ]
    }
   ],
   "source": [
    "from learntools.core import binder; binder.bind(globals())\n",
    "from learntools.python.ex1 import *\n",
    "print(\"Setup complete! You're ready to start question 0.\")"
   ]
  },
  {
   "cell_type": "markdown",
   "id": "b8df5de8",
   "metadata": {
    "papermill": {
     "duration": 0.005748,
     "end_time": "2023-02-22T02:00:46.429722",
     "exception": false,
     "start_time": "2023-02-22T02:00:46.423974",
     "status": "completed"
    },
    "tags": []
   },
   "source": [
    "# 0.\n",
    "\n",
    "*This is a silly question intended as an introduction to the format we use for hands-on exercises throughout all Kaggle courses.*\n",
    "\n",
    "**What is your favorite color? **\n",
    "\n",
    "To complete this question, create a variable called `color` in the cell below with an appropriate value. The function call `q0.check()` (which we've already provided in the cell below) will check your answer."
   ]
  },
  {
   "cell_type": "code",
   "execution_count": 4,
   "id": "b914b62f",
   "metadata": {
    "execution": {
     "iopub.execute_input": "2023-02-22T02:00:46.443443Z",
     "iopub.status.busy": "2023-02-22T02:00:46.443125Z",
     "iopub.status.idle": "2023-02-22T02:00:46.452019Z",
     "shell.execute_reply": "2023-02-22T02:00:46.451190Z"
    },
    "papermill": {
     "duration": 0.017481,
     "end_time": "2023-02-22T02:00:46.453712",
     "exception": false,
     "start_time": "2023-02-22T02:00:46.436231",
     "status": "completed"
    },
    "tags": []
   },
   "outputs": [
    {
     "data": {
      "application/javascript": [
       "parent.postMessage({\"jupyterEvent\": \"custom.exercise_interaction\", \"data\": {\"outcomeType\": 1, \"valueTowardsCompletion\": 0.25, \"interactionType\": 1, \"questionType\": 2, \"questionId\": \"0_ExerciseFormatTutorial\", \"learnToolsVersion\": \"0.3.4\", \"failureMessage\": \"\", \"exceptionClass\": \"\", \"trace\": \"\"}}, \"*\")"
      ],
      "text/plain": [
       "<IPython.core.display.Javascript object>"
      ]
     },
     "metadata": {},
     "output_type": "display_data"
    },
    {
     "data": {
      "text/markdown": [
       "<span style=\"color:#33cc33\">Correct:</span> What?! You got it right without needing a hint or anything? Drats. Well hey, you should still continue to the next step to get some practice asking for a hint and checking solutions. (Even though you obviously don't need any help here.)"
      ],
      "text/plain": [
       "Correct: What?! You got it right without needing a hint or anything? Drats. Well hey, you should still continue to the next step to get some practice asking for a hint and checking solutions. (Even though you obviously don't need any help here.)"
      ]
     },
     "metadata": {},
     "output_type": "display_data"
    }
   ],
   "source": [
    "# create a variable called color with an appropriate value on the line below\n",
    "# (Remember, strings in Python must be enclosed in 'single' or \"double\" quotes)\n",
    "____\n",
    "color = \"blue\"\n",
    "# Check your answer\n",
    "q0.check()"
   ]
  },
  {
   "cell_type": "markdown",
   "id": "d85afdb3",
   "metadata": {
    "papermill": {
     "duration": 0.005674,
     "end_time": "2023-02-22T02:00:46.465530",
     "exception": false,
     "start_time": "2023-02-22T02:00:46.459856",
     "status": "completed"
    },
    "tags": []
   },
   "source": [
    "Didn't get the right answer? How do you not even know your own favorite color?!\n",
    "\n",
    "Delete the `#` in the line below to make one of the lines run. You can choose between getting a hint or the full answer by choosing which line to remove the `#` from. \n",
    "\n",
    "Removing the `#` is called uncommenting, because it changes that line from a \"comment\" which Python doesn't run to code, which Python does run."
   ]
  },
  {
   "cell_type": "code",
   "execution_count": 5,
   "id": "311fac40",
   "metadata": {
    "execution": {
     "iopub.execute_input": "2023-02-22T02:00:46.478912Z",
     "iopub.status.busy": "2023-02-22T02:00:46.478441Z",
     "iopub.status.idle": "2023-02-22T02:00:46.485325Z",
     "shell.execute_reply": "2023-02-22T02:00:46.484336Z"
    },
    "papermill": {
     "duration": 0.015662,
     "end_time": "2023-02-22T02:00:46.487006",
     "exception": false,
     "start_time": "2023-02-22T02:00:46.471344",
     "status": "completed"
    },
    "tags": []
   },
   "outputs": [
    {
     "data": {
      "application/javascript": [
       "parent.postMessage({\"jupyterEvent\": \"custom.exercise_interaction\", \"data\": {\"interactionType\": 2, \"questionType\": 2, \"questionId\": \"0_ExerciseFormatTutorial\", \"learnToolsVersion\": \"0.3.4\", \"valueTowardsCompletion\": 0.0, \"failureMessage\": \"\", \"exceptionClass\": \"\", \"trace\": \"\", \"outcomeType\": 4}}, \"*\")"
      ],
      "text/plain": [
       "<IPython.core.display.Javascript object>"
      ]
     },
     "metadata": {},
     "output_type": "display_data"
    },
    {
     "data": {
      "text/markdown": [
       "<span style=\"color:#3366cc\">Hint:</span> Your favorite color rhymes with *glue*."
      ],
      "text/plain": [
       "Hint: Your favorite color rhymes with *glue*."
      ]
     },
     "metadata": {},
     "output_type": "display_data"
    }
   ],
   "source": [
    "q0.hint()\n",
    "#q0.solution()"
   ]
  },
  {
   "cell_type": "markdown",
   "id": "a1b5b989",
   "metadata": {
    "papermill": {
     "duration": 0.005818,
     "end_time": "2023-02-22T02:00:46.498945",
     "exception": false,
     "start_time": "2023-02-22T02:00:46.493127",
     "status": "completed"
    },
    "tags": []
   },
   "source": [
    "The upcoming questions work the same way. The only thing that will change are the question numbers. For the next question, you'll call `q1.check()`, `q1.hint()`, `q1.solution()`, for question 2, you'll call `q2.check()`, and so on."
   ]
  },
  {
   "cell_type": "markdown",
   "id": "e6ca1ce6",
   "metadata": {
    "papermill": {
     "duration": 0.005926,
     "end_time": "2023-02-22T02:00:46.510875",
     "exception": false,
     "start_time": "2023-02-22T02:00:46.504949",
     "status": "completed"
    },
    "tags": []
   },
   "source": [
    "<hr/>\n",
    "\n",
    "# 1.\n",
    "\n",
    "Complete the code below. In case it's helpful, here is the table of available arithmetic operations:\n",
    "\n",
    "\n",
    "\n",
    "| Operator     | Name           | Description                                            |\n",
    "|--------------|----------------|--------------------------------------------------------|\n",
    "| ``a + b``    | Addition       | Sum of ``a`` and ``b``                                 |\n",
    "| ``a - b``    | Subtraction    | Difference of ``a`` and ``b``                          |\n",
    "| ``a * b``    | Multiplication | Product of ``a`` and ``b``                             |\n",
    "| ``a / b``    | True division  | Quotient of ``a`` and ``b``                            |\n",
    "| ``a // b``   | Floor division | Quotient of ``a`` and ``b``, removing fractional parts |\n",
    "| ``a % b``    | Modulus        | Integer remainder after division of ``a`` by ``b``     |\n",
    "| ``a ** b``   | Exponentiation | ``a`` raised to the power of ``b``                     |\n",
    "| ``-a``       | Negation       | The negative of ``a``                                  |\n",
    "\n",
    "<span style=\"display:none\"></span>\n"
   ]
  },
  {
   "cell_type": "code",
   "execution_count": 6,
   "id": "256f4a94",
   "metadata": {
    "execution": {
     "iopub.execute_input": "2023-02-22T02:00:46.524276Z",
     "iopub.status.busy": "2023-02-22T02:00:46.523930Z",
     "iopub.status.idle": "2023-02-22T02:00:46.531775Z",
     "shell.execute_reply": "2023-02-22T02:00:46.530845Z"
    },
    "papermill": {
     "duration": 0.016553,
     "end_time": "2023-02-22T02:00:46.533419",
     "exception": false,
     "start_time": "2023-02-22T02:00:46.516866",
     "status": "completed"
    },
    "tags": []
   },
   "outputs": [
    {
     "data": {
      "application/javascript": [
       "parent.postMessage({\"jupyterEvent\": \"custom.exercise_interaction\", \"data\": {\"outcomeType\": 1, \"valueTowardsCompletion\": 0.25, \"interactionType\": 1, \"questionType\": 1, \"questionId\": \"1_CircleArea\", \"learnToolsVersion\": \"0.3.4\", \"failureMessage\": \"\", \"exceptionClass\": \"\", \"trace\": \"\"}}, \"*\")"
      ],
      "text/plain": [
       "<IPython.core.display.Javascript object>"
      ]
     },
     "metadata": {},
     "output_type": "display_data"
    },
    {
     "data": {
      "text/markdown": [
       "<span style=\"color:#33cc33\">Correct</span>"
      ],
      "text/plain": [
       "Correct"
      ]
     },
     "metadata": {},
     "output_type": "display_data"
    }
   ],
   "source": [
    "pi = 3.14159 # approximate\n",
    "diameter = 3\n",
    "\n",
    "# Create a variable called 'radius' equal to half the diameter\n",
    "radius  = diameter/2\n",
    "____\n",
    "\n",
    "# Create a variable called 'area', using the formula for the area of a circle: pi times the radius squared\n",
    "area  = pi * (radius**2)\n",
    "____\n",
    "\n",
    "# Check your answer\n",
    "q1.check()"
   ]
  },
  {
   "cell_type": "code",
   "execution_count": 7,
   "id": "f49e7080",
   "metadata": {
    "execution": {
     "iopub.execute_input": "2023-02-22T02:00:46.547698Z",
     "iopub.status.busy": "2023-02-22T02:00:46.546997Z",
     "iopub.status.idle": "2023-02-22T02:00:46.550546Z",
     "shell.execute_reply": "2023-02-22T02:00:46.549943Z"
    },
    "papermill": {
     "duration": 0.012131,
     "end_time": "2023-02-22T02:00:46.552047",
     "exception": false,
     "start_time": "2023-02-22T02:00:46.539916",
     "status": "completed"
    },
    "tags": []
   },
   "outputs": [],
   "source": [
    "# Uncomment and run the lines below if you need help.\n",
    "#q1.hint()\n",
    "#q1.solution()"
   ]
  },
  {
   "cell_type": "markdown",
   "id": "c3d80c47",
   "metadata": {
    "papermill": {
     "duration": 0.006048,
     "end_time": "2023-02-22T02:00:46.564344",
     "exception": false,
     "start_time": "2023-02-22T02:00:46.558296",
     "status": "completed"
    },
    "tags": []
   },
   "source": [
    "<hr/>\n",
    "\n",
    "# 2.\n",
    "\n",
    "Add code to the following cell to swap variables `a` and `b` (so that `a` refers to the object previously referred to by `b` and vice versa)."
   ]
  },
  {
   "cell_type": "code",
   "execution_count": 8,
   "id": "525525f0",
   "metadata": {
    "execution": {
     "iopub.execute_input": "2023-02-22T02:00:46.578391Z",
     "iopub.status.busy": "2023-02-22T02:00:46.577939Z",
     "iopub.status.idle": "2023-02-22T02:00:46.584602Z",
     "shell.execute_reply": "2023-02-22T02:00:46.584054Z"
    },
    "papermill": {
     "duration": 0.015339,
     "end_time": "2023-02-22T02:00:46.586018",
     "exception": false,
     "start_time": "2023-02-22T02:00:46.570679",
     "status": "completed"
    },
    "tags": []
   },
   "outputs": [
    {
     "data": {
      "application/javascript": [
       "parent.postMessage({\"jupyterEvent\": \"custom.exercise_interaction\", \"data\": {\"outcomeType\": 1, \"valueTowardsCompletion\": 0.25, \"interactionType\": 1, \"questionType\": 2, \"questionId\": \"2_VariableSwap\", \"learnToolsVersion\": \"0.3.4\", \"failureMessage\": \"\", \"exceptionClass\": \"\", \"trace\": \"\"}}, \"*\")"
      ],
      "text/plain": [
       "<IPython.core.display.Javascript object>"
      ]
     },
     "metadata": {},
     "output_type": "display_data"
    },
    {
     "data": {
      "text/markdown": [
       "<span style=\"color:#33cc33\">Correct:</span> \n",
       "\n",
       "The most straightforward solution is to use a third variable to temporarily store one of the old values. e.g.:\n",
       "\n",
       "    tmp = a\n",
       "    a = b\n",
       "    b = tmp\n",
       "\n",
       "If you've read lots of Python code, you might have seen the following trick to swap two variables in one line:\n",
       "\n",
       "    a, b = b, a\n",
       "\n",
       "We'll demystify this bit of Python magic later when we talk about *tuples*."
      ],
      "text/plain": [
       "Correct: \n",
       "\n",
       "The most straightforward solution is to use a third variable to temporarily store one of the old values. e.g.:\n",
       "\n",
       "    tmp = a\n",
       "    a = b\n",
       "    b = tmp\n",
       "\n",
       "If you've read lots of Python code, you might have seen the following trick to swap two variables in one line:\n",
       "\n",
       "    a, b = b, a\n",
       "\n",
       "We'll demystify this bit of Python magic later when we talk about *tuples*."
      ]
     },
     "metadata": {},
     "output_type": "display_data"
    }
   ],
   "source": [
    "########### Setup code - don't touch this part ######################\n",
    "# If you're curious, these are examples of lists. We'll talk about \n",
    "# them in depth a few lessons from now. For now, just know that they're\n",
    "# yet another type of Python object, like int or float.\n",
    "a = [1, 2, 3]\n",
    "b = [3, 2, 1]\n",
    "q2.store_original_ids()\n",
    "######################################################################\n",
    "\n",
    "# Your code goes here. Swap the values to which a and b refer.\n",
    "# If you get stuck, you can always uncomment one or both of the lines in\n",
    "# the next cell for a hint, or to peek at the solution.\n",
    "c = a \n",
    "a = b\n",
    "b = c\n",
    "######################################################################\n",
    "\n",
    "# Check your answer\n",
    "q2.check()"
   ]
  },
  {
   "cell_type": "code",
   "execution_count": 9,
   "id": "2f8364ef",
   "metadata": {
    "execution": {
     "iopub.execute_input": "2023-02-22T02:00:46.600669Z",
     "iopub.status.busy": "2023-02-22T02:00:46.600128Z",
     "iopub.status.idle": "2023-02-22T02:00:46.603443Z",
     "shell.execute_reply": "2023-02-22T02:00:46.602886Z"
    },
    "papermill": {
     "duration": 0.01236,
     "end_time": "2023-02-22T02:00:46.604877",
     "exception": false,
     "start_time": "2023-02-22T02:00:46.592517",
     "status": "completed"
    },
    "tags": []
   },
   "outputs": [],
   "source": [
    "#q2.hint()"
   ]
  },
  {
   "cell_type": "code",
   "execution_count": 10,
   "id": "2fa38a8a",
   "metadata": {
    "execution": {
     "iopub.execute_input": "2023-02-22T02:00:46.619156Z",
     "iopub.status.busy": "2023-02-22T02:00:46.618432Z",
     "iopub.status.idle": "2023-02-22T02:00:46.622051Z",
     "shell.execute_reply": "2023-02-22T02:00:46.621281Z"
    },
    "papermill": {
     "duration": 0.012358,
     "end_time": "2023-02-22T02:00:46.623668",
     "exception": false,
     "start_time": "2023-02-22T02:00:46.611310",
     "status": "completed"
    },
    "tags": []
   },
   "outputs": [],
   "source": [
    "#q2.solution()"
   ]
  },
  {
   "cell_type": "markdown",
   "id": "2a0aacf3",
   "metadata": {
    "papermill": {
     "duration": 0.007745,
     "end_time": "2023-02-22T02:00:46.638196",
     "exception": false,
     "start_time": "2023-02-22T02:00:46.630451",
     "status": "completed"
    },
    "tags": []
   },
   "source": [
    "<hr/>\n",
    "\n",
    "# 3a.\n",
    "\n",
    "Add parentheses to the following expression so that it evaluates to 1."
   ]
  },
  {
   "cell_type": "code",
   "execution_count": 11,
   "id": "556f8b04",
   "metadata": {
    "execution": {
     "iopub.execute_input": "2023-02-22T02:00:46.652678Z",
     "iopub.status.busy": "2023-02-22T02:00:46.652378Z",
     "iopub.status.idle": "2023-02-22T02:00:46.657362Z",
     "shell.execute_reply": "2023-02-22T02:00:46.656569Z"
    },
    "papermill": {
     "duration": 0.014745,
     "end_time": "2023-02-22T02:00:46.659512",
     "exception": false,
     "start_time": "2023-02-22T02:00:46.644767",
     "status": "completed"
    },
    "tags": []
   },
   "outputs": [
    {
     "data": {
      "text/plain": [
       "1"
      ]
     },
     "execution_count": 11,
     "metadata": {},
     "output_type": "execute_result"
    }
   ],
   "source": [
    "(5 - 3 )// 2"
   ]
  },
  {
   "cell_type": "code",
   "execution_count": 12,
   "id": "e9358500",
   "metadata": {
    "execution": {
     "iopub.execute_input": "2023-02-22T02:00:46.674912Z",
     "iopub.status.busy": "2023-02-22T02:00:46.674311Z",
     "iopub.status.idle": "2023-02-22T02:00:46.677932Z",
     "shell.execute_reply": "2023-02-22T02:00:46.677297Z"
    },
    "papermill": {
     "duration": 0.012903,
     "end_time": "2023-02-22T02:00:46.679710",
     "exception": false,
     "start_time": "2023-02-22T02:00:46.666807",
     "status": "completed"
    },
    "tags": []
   },
   "outputs": [],
   "source": [
    "#q3.a.hint()"
   ]
  },
  {
   "cell_type": "code",
   "execution_count": 13,
   "id": "0d4a19ed",
   "metadata": {
    "execution": {
     "iopub.execute_input": "2023-02-22T02:00:46.695094Z",
     "iopub.status.busy": "2023-02-22T02:00:46.694693Z",
     "iopub.status.idle": "2023-02-22T02:00:46.703195Z",
     "shell.execute_reply": "2023-02-22T02:00:46.701930Z"
    },
    "papermill": {
     "duration": 0.018268,
     "end_time": "2023-02-22T02:00:46.704915",
     "exception": false,
     "start_time": "2023-02-22T02:00:46.686647",
     "status": "completed"
    },
    "tags": []
   },
   "outputs": [
    {
     "data": {
      "application/javascript": [
       "parent.postMessage({\"jupyterEvent\": \"custom.exercise_interaction\", \"data\": {\"interactionType\": 3, \"questionType\": 4, \"questionId\": \"3.1_ArithmeticParensEasy\", \"learnToolsVersion\": \"0.3.4\", \"valueTowardsCompletion\": 0.0, \"failureMessage\": \"\", \"exceptionClass\": \"\", \"trace\": \"\", \"outcomeType\": 4}}, \"*\")"
      ],
      "text/plain": [
       "<IPython.core.display.Javascript object>"
      ]
     },
     "metadata": {},
     "output_type": "display_data"
    },
    {
     "data": {
      "text/markdown": [
       "<span style=\"color:#33cc99\">Solution:</span> \n",
       "```python\n",
       "(5 - 3) // 2\n",
       "```"
      ],
      "text/plain": [
       "Solution: \n",
       "```python\n",
       "(5 - 3) // 2\n",
       "```"
      ]
     },
     "metadata": {},
     "output_type": "display_data"
    }
   ],
   "source": [
    "# Check your answer (Run this code cell to receive credit!)\n",
    "q3.a.solution()"
   ]
  },
  {
   "cell_type": "markdown",
   "id": "7b1e45fd",
   "metadata": {
    "papermill": {
     "duration": 0.007119,
     "end_time": "2023-02-22T02:00:46.719115",
     "exception": false,
     "start_time": "2023-02-22T02:00:46.711996",
     "status": "completed"
    },
    "tags": []
   },
   "source": [
    "# 3b.  <span title=\"A bit spicy\" style=\"color: darkgreen \">🌶️</span>\n",
    "\n",
    "<small>Questions, like this one, marked a spicy pepper are a bit harder.</small>\n",
    "\n",
    "Add parentheses to the following expression so that it evaluates to 0."
   ]
  },
  {
   "cell_type": "code",
   "execution_count": 14,
   "id": "d5eb9154",
   "metadata": {
    "execution": {
     "iopub.execute_input": "2023-02-22T02:00:46.734378Z",
     "iopub.status.busy": "2023-02-22T02:00:46.734053Z",
     "iopub.status.idle": "2023-02-22T02:00:46.740016Z",
     "shell.execute_reply": "2023-02-22T02:00:46.739091Z"
    },
    "papermill": {
     "duration": 0.015565,
     "end_time": "2023-02-22T02:00:46.741659",
     "exception": false,
     "start_time": "2023-02-22T02:00:46.726094",
     "status": "completed"
    },
    "tags": []
   },
   "outputs": [
    {
     "data": {
      "text/plain": [
       "0"
      ]
     },
     "execution_count": 14,
     "metadata": {},
     "output_type": "execute_result"
    }
   ],
   "source": [
    "(8 - 3) * (2 - (1 + 1))"
   ]
  },
  {
   "cell_type": "code",
   "execution_count": 15,
   "id": "7e153c5d",
   "metadata": {
    "execution": {
     "iopub.execute_input": "2023-02-22T02:00:46.757755Z",
     "iopub.status.busy": "2023-02-22T02:00:46.757281Z",
     "iopub.status.idle": "2023-02-22T02:00:46.760679Z",
     "shell.execute_reply": "2023-02-22T02:00:46.760156Z"
    },
    "papermill": {
     "duration": 0.013315,
     "end_time": "2023-02-22T02:00:46.762325",
     "exception": false,
     "start_time": "2023-02-22T02:00:46.749010",
     "status": "completed"
    },
    "tags": []
   },
   "outputs": [],
   "source": [
    "#q3.b.hint()"
   ]
  },
  {
   "cell_type": "code",
   "execution_count": 16,
   "id": "ada82432",
   "metadata": {
    "execution": {
     "iopub.execute_input": "2023-02-22T02:00:46.778076Z",
     "iopub.status.busy": "2023-02-22T02:00:46.777647Z",
     "iopub.status.idle": "2023-02-22T02:00:46.783967Z",
     "shell.execute_reply": "2023-02-22T02:00:46.783375Z"
    },
    "papermill": {
     "duration": 0.016136,
     "end_time": "2023-02-22T02:00:46.785613",
     "exception": false,
     "start_time": "2023-02-22T02:00:46.769477",
     "status": "completed"
    },
    "tags": []
   },
   "outputs": [
    {
     "data": {
      "application/javascript": [
       "parent.postMessage({\"jupyterEvent\": \"custom.exercise_interaction\", \"data\": {\"interactionType\": 3, \"questionType\": 4, \"questionId\": \"3.2_ArithmeticParensHard\", \"learnToolsVersion\": \"0.3.4\", \"valueTowardsCompletion\": 0.0, \"failureMessage\": \"\", \"exceptionClass\": \"\", \"trace\": \"\", \"outcomeType\": 4}}, \"*\")"
      ],
      "text/plain": [
       "<IPython.core.display.Javascript object>"
      ]
     },
     "metadata": {},
     "output_type": "display_data"
    },
    {
     "data": {
      "text/markdown": [
       "<span style=\"color:#33cc99\">Solution:</span> `(8 - 3) * (2 - (1 + 1))` is one solution. There may be others."
      ],
      "text/plain": [
       "Solution: `(8 - 3) * (2 - (1 + 1))` is one solution. There may be others."
      ]
     },
     "metadata": {},
     "output_type": "display_data"
    }
   ],
   "source": [
    "# Check your answer (Run this code cell to receive credit!)\n",
    "q3.b.solution()"
   ]
  },
  {
   "cell_type": "markdown",
   "id": "3ba24d93",
   "metadata": {
    "papermill": {
     "duration": 0.007388,
     "end_time": "2023-02-22T02:00:46.800573",
     "exception": false,
     "start_time": "2023-02-22T02:00:46.793185",
     "status": "completed"
    },
    "tags": []
   },
   "source": [
    "<hr/>\n",
    "\n",
    "# 4. \n",
    "Alice, Bob and Carol have agreed to pool their Halloween candy and split it evenly among themselves.\n",
    "For the sake of their friendship, any candies left over will be smashed. For example, if they collectively\n",
    "bring home 91 candies, they'll take 30 each and smash 1.\n",
    "\n",
    "Write an arithmetic expression below to calculate how many candies they must smash for a given haul."
   ]
  },
  {
   "cell_type": "code",
   "execution_count": 17,
   "id": "7b6426b4",
   "metadata": {
    "execution": {
     "iopub.execute_input": "2023-02-22T02:00:46.817129Z",
     "iopub.status.busy": "2023-02-22T02:00:46.816500Z",
     "iopub.status.idle": "2023-02-22T02:00:46.824462Z",
     "shell.execute_reply": "2023-02-22T02:00:46.823570Z"
    },
    "papermill": {
     "duration": 0.018162,
     "end_time": "2023-02-22T02:00:46.826167",
     "exception": false,
     "start_time": "2023-02-22T02:00:46.808005",
     "status": "completed"
    },
    "tags": []
   },
   "outputs": [
    {
     "data": {
      "application/javascript": [
       "parent.postMessage({\"jupyterEvent\": \"custom.exercise_interaction\", \"data\": {\"outcomeType\": 1, \"valueTowardsCompletion\": 0.25, \"interactionType\": 1, \"questionType\": 1, \"questionId\": \"4_CandySplitting\", \"learnToolsVersion\": \"0.3.4\", \"failureMessage\": \"\", \"exceptionClass\": \"\", \"trace\": \"\"}}, \"*\")"
      ],
      "text/plain": [
       "<IPython.core.display.Javascript object>"
      ]
     },
     "metadata": {},
     "output_type": "display_data"
    },
    {
     "data": {
      "text/markdown": [
       "<span style=\"color:#33cc33\">Correct</span>"
      ],
      "text/plain": [
       "Correct"
      ]
     },
     "metadata": {},
     "output_type": "display_data"
    }
   ],
   "source": [
    "# Variables representing the number of candies collected by alice, bob, and carol\n",
    "alice_candies = 121\n",
    "bob_candies = 77\n",
    "carol_candies = 109\n",
    "\n",
    "# Your code goes here! Replace the right-hand side of this assignment with an expression\n",
    "# involving alice_candies, bob_candies, and carol_candies\n",
    "summing = bob_candies+carol_candies+alice_candies\n",
    "to_smash = summing - 3*(summing//3)\n",
    "\n",
    "# Check your answer\n",
    "q4.check()"
   ]
  },
  {
   "cell_type": "code",
   "execution_count": 18,
   "id": "f70091ab",
   "metadata": {
    "execution": {
     "iopub.execute_input": "2023-02-22T02:00:46.843143Z",
     "iopub.status.busy": "2023-02-22T02:00:46.842262Z",
     "iopub.status.idle": "2023-02-22T02:00:46.846348Z",
     "shell.execute_reply": "2023-02-22T02:00:46.845511Z"
    },
    "papermill": {
     "duration": 0.014426,
     "end_time": "2023-02-22T02:00:46.848116",
     "exception": false,
     "start_time": "2023-02-22T02:00:46.833690",
     "status": "completed"
    },
    "tags": []
   },
   "outputs": [],
   "source": [
    "#q4.hint()\n",
    "#q4.solution()"
   ]
  },
  {
   "cell_type": "markdown",
   "id": "06fec69c",
   "metadata": {
    "papermill": {
     "duration": 0.007444,
     "end_time": "2023-02-22T02:00:46.863329",
     "exception": false,
     "start_time": "2023-02-22T02:00:46.855885",
     "status": "completed"
    },
    "tags": []
   },
   "source": [
    "# Keep Going\n",
    "\n",
    "Next up, you'll **[learn to write new functions and understand functions others write](https://www.kaggle.com/colinmorris/functions-and-getting-help)**. This will make you at least 10 times more productive as a Python programmer. "
   ]
  },
  {
   "cell_type": "markdown",
   "id": "bb4ab8ad",
   "metadata": {
    "papermill": {
     "duration": 0.008289,
     "end_time": "2023-02-22T02:00:46.879459",
     "exception": false,
     "start_time": "2023-02-22T02:00:46.871170",
     "status": "completed"
    },
    "tags": []
   },
   "source": [
    "---\n",
    "\n",
    "\n",
    "\n",
    "\n",
    "*Have questions or comments? Visit the [course discussion forum](https://www.kaggle.com/learn/python/discussion) to chat with other learners.*"
   ]
  }
 ],
 "metadata": {
  "kernelspec": {
   "display_name": "Python 3",
   "language": "python",
   "name": "python3"
  },
  "language_info": {
   "codemirror_mode": {
    "name": "ipython",
    "version": 3
   },
   "file_extension": ".py",
   "mimetype": "text/x-python",
   "name": "python",
   "nbconvert_exporter": "python",
   "pygments_lexer": "ipython3",
   "version": "3.7.12"
  },
  "papermill": {
   "default_parameters": {},
   "duration": 7.953261,
   "end_time": "2023-02-22T02:00:47.406634",
   "environment_variables": {},
   "exception": null,
   "input_path": "__notebook__.ipynb",
   "output_path": "__notebook__.ipynb",
   "parameters": {},
   "start_time": "2023-02-22T02:00:39.453373",
   "version": "2.3.4"
  }
 },
 "nbformat": 4,
 "nbformat_minor": 5
}
