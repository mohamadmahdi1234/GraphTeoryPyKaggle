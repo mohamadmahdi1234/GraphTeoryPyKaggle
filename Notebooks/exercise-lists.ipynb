{
 "cells": [
  {
   "cell_type": "markdown",
   "id": "dc4e1935",
   "metadata": {
    "papermill": {
     "duration": 0.008602,
     "end_time": "2023-02-22T02:03:12.623531",
     "exception": false,
     "start_time": "2023-02-22T02:03:12.614929",
     "status": "completed"
    },
    "tags": []
   },
   "source": [
    "**This notebook is an exercise in the [Python](https://www.kaggle.com/learn/python) course.  You can reference the tutorial at [this link](https://www.kaggle.com/colinmorris/lists).**\n",
    "\n",
    "---\n"
   ]
  },
  {
   "cell_type": "markdown",
   "id": "026af5fa",
   "metadata": {
    "papermill": {
     "duration": 0.004621,
     "end_time": "2023-02-22T02:03:12.633298",
     "exception": false,
     "start_time": "2023-02-22T02:03:12.628677",
     "status": "completed"
    },
    "tags": []
   },
   "source": [
    "Things get more interesting with lists. You'll apply your new knowledge to solve the questions below. Remember to run the following cell first."
   ]
  },
  {
   "cell_type": "code",
   "execution_count": 1,
   "id": "bbcb2a08",
   "metadata": {
    "execution": {
     "iopub.execute_input": "2023-02-22T02:03:12.645093Z",
     "iopub.status.busy": "2023-02-22T02:03:12.644622Z",
     "iopub.status.idle": "2023-02-22T02:03:12.691240Z",
     "shell.execute_reply": "2023-02-22T02:03:12.690029Z"
    },
    "papermill": {
     "duration": 0.055846,
     "end_time": "2023-02-22T02:03:12.694094",
     "exception": false,
     "start_time": "2023-02-22T02:03:12.638248",
     "status": "completed"
    },
    "tags": []
   },
   "outputs": [
    {
     "name": "stdout",
     "output_type": "stream",
     "text": [
      "Setup complete.\n"
     ]
    }
   ],
   "source": [
    "from learntools.core import binder; binder.bind(globals())\n",
    "from learntools.python.ex4 import *\n",
    "print('Setup complete.')"
   ]
  },
  {
   "cell_type": "markdown",
   "id": "745ad3c4",
   "metadata": {
    "papermill": {
     "duration": 0.004877,
     "end_time": "2023-02-22T02:03:12.703955",
     "exception": false,
     "start_time": "2023-02-22T02:03:12.699078",
     "status": "completed"
    },
    "tags": []
   },
   "source": [
    "# 1.\n",
    "\n",
    "Complete the function below according to its docstring."
   ]
  },
  {
   "cell_type": "code",
   "execution_count": 2,
   "id": "1c9b26e3",
   "metadata": {
    "execution": {
     "iopub.execute_input": "2023-02-22T02:03:12.715966Z",
     "iopub.status.busy": "2023-02-22T02:03:12.715136Z",
     "iopub.status.idle": "2023-02-22T02:03:12.728614Z",
     "shell.execute_reply": "2023-02-22T02:03:12.727440Z"
    },
    "papermill": {
     "duration": 0.021967,
     "end_time": "2023-02-22T02:03:12.730822",
     "exception": false,
     "start_time": "2023-02-22T02:03:12.708855",
     "status": "completed"
    },
    "tags": []
   },
   "outputs": [
    {
     "data": {
      "application/javascript": [
       "parent.postMessage({\"jupyterEvent\": \"custom.exercise_interaction\", \"data\": {\"outcomeType\": 1, \"valueTowardsCompletion\": 0.2, \"interactionType\": 1, \"questionType\": 2, \"questionId\": \"1_SelectSecondItem\", \"learnToolsVersion\": \"0.3.4\", \"failureMessage\": \"\", \"exceptionClass\": \"\", \"trace\": \"\"}}, \"*\")"
      ],
      "text/plain": [
       "<IPython.core.display.Javascript object>"
      ]
     },
     "metadata": {},
     "output_type": "display_data"
    },
    {
     "data": {
      "text/markdown": [
       "<span style=\"color:#33cc33\">Correct</span>"
      ],
      "text/plain": [
       "Correct"
      ]
     },
     "metadata": {},
     "output_type": "display_data"
    }
   ],
   "source": [
    "def select_second(L):\n",
    "    \"\"\"Return the second element of the given list. If the list has no second\n",
    "    element, return None.\n",
    "    \"\"\"\n",
    "    return L[1] if len(L)>=2 else None\n",
    "\n",
    "# Check your answer\n",
    "q1.check()"
   ]
  },
  {
   "cell_type": "code",
   "execution_count": 3,
   "id": "738552b8",
   "metadata": {
    "collapsed": true,
    "execution": {
     "iopub.execute_input": "2023-02-22T02:03:12.743304Z",
     "iopub.status.busy": "2023-02-22T02:03:12.742323Z",
     "iopub.status.idle": "2023-02-22T02:03:12.747114Z",
     "shell.execute_reply": "2023-02-22T02:03:12.746342Z"
    },
    "jupyter": {
     "outputs_hidden": true
    },
    "papermill": {
     "duration": 0.013318,
     "end_time": "2023-02-22T02:03:12.749321",
     "exception": false,
     "start_time": "2023-02-22T02:03:12.736003",
     "status": "completed"
    },
    "tags": []
   },
   "outputs": [],
   "source": [
    "#q1.hint()\n",
    "#q1.solution()"
   ]
  },
  {
   "cell_type": "markdown",
   "id": "053d9666",
   "metadata": {
    "papermill": {
     "duration": 0.005062,
     "end_time": "2023-02-22T02:03:12.759758",
     "exception": false,
     "start_time": "2023-02-22T02:03:12.754696",
     "status": "completed"
    },
    "tags": []
   },
   "source": [
    "# 2.\n",
    "\n",
    "You are analyzing sports teams.  Members of each team are stored in a list. The Coach is the first name in the list, the captain is the second name in the list, and other players are listed after that. \n",
    "These lists are stored in another list, which starts with the best team and proceeds through the list to the worst team last.  Complete the function below to select the **captain** of the worst team."
   ]
  },
  {
   "cell_type": "code",
   "execution_count": 4,
   "id": "adbdf3f4",
   "metadata": {
    "execution": {
     "iopub.execute_input": "2023-02-22T02:03:12.773216Z",
     "iopub.status.busy": "2023-02-22T02:03:12.772120Z",
     "iopub.status.idle": "2023-02-22T02:03:12.782147Z",
     "shell.execute_reply": "2023-02-22T02:03:12.781262Z"
    },
    "papermill": {
     "duration": 0.019501,
     "end_time": "2023-02-22T02:03:12.784609",
     "exception": false,
     "start_time": "2023-02-22T02:03:12.765108",
     "status": "completed"
    },
    "tags": []
   },
   "outputs": [
    {
     "data": {
      "application/javascript": [
       "parent.postMessage({\"jupyterEvent\": \"custom.exercise_interaction\", \"data\": {\"outcomeType\": 1, \"valueTowardsCompletion\": 0.2, \"interactionType\": 1, \"questionType\": 2, \"questionId\": \"2_LosingTeamCaptain\", \"learnToolsVersion\": \"0.3.4\", \"failureMessage\": \"\", \"exceptionClass\": \"\", \"trace\": \"\"}}, \"*\")"
      ],
      "text/plain": [
       "<IPython.core.display.Javascript object>"
      ]
     },
     "metadata": {},
     "output_type": "display_data"
    },
    {
     "data": {
      "text/markdown": [
       "<span style=\"color:#33cc33\">Correct</span>"
      ],
      "text/plain": [
       "Correct"
      ]
     },
     "metadata": {},
     "output_type": "display_data"
    }
   ],
   "source": [
    "def losing_team_captain(teams):\n",
    "    \"\"\"Given a list of teams, where each team is a list of names, return the 2nd player (captain)\n",
    "    from the last listed team\n",
    "    \"\"\"\n",
    "    return teams[-1][1]\n",
    "\n",
    "# Check your answer\n",
    "q2.check()"
   ]
  },
  {
   "cell_type": "code",
   "execution_count": 5,
   "id": "65cda8bb",
   "metadata": {
    "collapsed": true,
    "execution": {
     "iopub.execute_input": "2023-02-22T02:03:12.797541Z",
     "iopub.status.busy": "2023-02-22T02:03:12.797111Z",
     "iopub.status.idle": "2023-02-22T02:03:12.801321Z",
     "shell.execute_reply": "2023-02-22T02:03:12.800513Z"
    },
    "jupyter": {
     "outputs_hidden": true
    },
    "papermill": {
     "duration": 0.013338,
     "end_time": "2023-02-22T02:03:12.803446",
     "exception": false,
     "start_time": "2023-02-22T02:03:12.790108",
     "status": "completed"
    },
    "tags": []
   },
   "outputs": [],
   "source": [
    "#q2.hint()\n",
    "#q2.solution()"
   ]
  },
  {
   "cell_type": "markdown",
   "id": "0d6e1fde",
   "metadata": {
    "papermill": {
     "duration": 0.005244,
     "end_time": "2023-02-22T02:03:12.814193",
     "exception": false,
     "start_time": "2023-02-22T02:03:12.808949",
     "status": "completed"
    },
    "tags": []
   },
   "source": [
    "# 3.\n",
    "\n",
    "The next iteration of Mario Kart will feature an extra-infuriating new item, the *Purple Shell*. When used, it warps the last place racer into first place and the first place racer into last place. Complete the function below to implement the Purple Shell's effect."
   ]
  },
  {
   "cell_type": "code",
   "execution_count": 6,
   "id": "92fb0730",
   "metadata": {
    "execution": {
     "iopub.execute_input": "2023-02-22T02:03:12.827445Z",
     "iopub.status.busy": "2023-02-22T02:03:12.826765Z",
     "iopub.status.idle": "2023-02-22T02:03:12.836956Z",
     "shell.execute_reply": "2023-02-22T02:03:12.835986Z"
    },
    "papermill": {
     "duration": 0.019262,
     "end_time": "2023-02-22T02:03:12.839093",
     "exception": false,
     "start_time": "2023-02-22T02:03:12.819831",
     "status": "completed"
    },
    "tags": []
   },
   "outputs": [
    {
     "data": {
      "application/javascript": [
       "parent.postMessage({\"jupyterEvent\": \"custom.exercise_interaction\", \"data\": {\"outcomeType\": 1, \"valueTowardsCompletion\": 0.2, \"interactionType\": 1, \"questionType\": 2, \"questionId\": \"3_PurpleShell\", \"learnToolsVersion\": \"0.3.4\", \"failureMessage\": \"\", \"exceptionClass\": \"\", \"trace\": \"\"}}, \"*\")"
      ],
      "text/plain": [
       "<IPython.core.display.Javascript object>"
      ]
     },
     "metadata": {},
     "output_type": "display_data"
    },
    {
     "data": {
      "text/markdown": [
       "<span style=\"color:#33cc33\">Correct</span>"
      ],
      "text/plain": [
       "Correct"
      ]
     },
     "metadata": {},
     "output_type": "display_data"
    }
   ],
   "source": [
    "def purple_shell(racers):\n",
    "    \"\"\"Given a list of racers, set the first place racer (at the front of the list) to last\n",
    "    place and vice versa.\n",
    "    \n",
    "    >>> r = [\"Mario\", \"Bowser\", \"Luigi\"]\n",
    "    >>> purple_shell(r)\n",
    "    >>> r\n",
    "    [\"Luigi\", \"Bowser\", \"Mario\"]\n",
    "    \"\"\"\n",
    "    temp = racers[-1]\n",
    "    racers[-1] = racers [0]\n",
    "    racers[0] = temp\n",
    "    \n",
    "\n",
    "# Check your answer\n",
    "q3.check()"
   ]
  },
  {
   "cell_type": "code",
   "execution_count": 7,
   "id": "bafd2b82",
   "metadata": {
    "collapsed": true,
    "execution": {
     "iopub.execute_input": "2023-02-22T02:03:12.852881Z",
     "iopub.status.busy": "2023-02-22T02:03:12.852209Z",
     "iopub.status.idle": "2023-02-22T02:03:12.856497Z",
     "shell.execute_reply": "2023-02-22T02:03:12.855694Z"
    },
    "jupyter": {
     "outputs_hidden": true
    },
    "papermill": {
     "duration": 0.013732,
     "end_time": "2023-02-22T02:03:12.858541",
     "exception": false,
     "start_time": "2023-02-22T02:03:12.844809",
     "status": "completed"
    },
    "tags": []
   },
   "outputs": [],
   "source": [
    "#q3.hint()\n",
    "#q3.solution()"
   ]
  },
  {
   "cell_type": "markdown",
   "id": "530af1f9",
   "metadata": {
    "papermill": {
     "duration": 0.005498,
     "end_time": "2023-02-22T02:03:12.869823",
     "exception": false,
     "start_time": "2023-02-22T02:03:12.864325",
     "status": "completed"
    },
    "tags": []
   },
   "source": [
    "# 4.\n",
    "\n",
    "What are the lengths of the following lists? Fill in the variable `lengths` with your predictions. (Try to make a prediction for each list *without* just calling `len()` on it.)"
   ]
  },
  {
   "cell_type": "code",
   "execution_count": 8,
   "id": "2429860e",
   "metadata": {
    "execution": {
     "iopub.execute_input": "2023-02-22T02:03:12.884023Z",
     "iopub.status.busy": "2023-02-22T02:03:12.883383Z",
     "iopub.status.idle": "2023-02-22T02:03:12.893341Z",
     "shell.execute_reply": "2023-02-22T02:03:12.892463Z"
    },
    "papermill": {
     "duration": 0.019791,
     "end_time": "2023-02-22T02:03:12.895469",
     "exception": false,
     "start_time": "2023-02-22T02:03:12.875678",
     "status": "completed"
    },
    "tags": []
   },
   "outputs": [
    {
     "data": {
      "application/javascript": [
       "parent.postMessage({\"jupyterEvent\": \"custom.exercise_interaction\", \"data\": {\"outcomeType\": 1, \"valueTowardsCompletion\": 0.2, \"interactionType\": 1, \"questionType\": 1, \"questionId\": \"4_UnderstandLen\", \"learnToolsVersion\": \"0.3.4\", \"failureMessage\": \"\", \"exceptionClass\": \"\", \"trace\": \"\"}}, \"*\")"
      ],
      "text/plain": [
       "<IPython.core.display.Javascript object>"
      ]
     },
     "metadata": {},
     "output_type": "display_data"
    },
    {
     "data": {
      "text/markdown": [
       "<span style=\"color:#33cc33\">Correct:</span> \n",
       "\n",
       "\n",
       "- a: There are three items in this list. Nothing tricky yet.\n",
       "- b: The list `[2, 3]` counts as a single item. It has one item before it. So we have 2 items in the list\n",
       "- c: The empty list has 0 items\n",
       "- d: The expression is the same as the list `[2, 3]`, which has length 2."
      ],
      "text/plain": [
       "Correct: \n",
       "\n",
       "\n",
       "- a: There are three items in this list. Nothing tricky yet.\n",
       "- b: The list `[2, 3]` counts as a single item. It has one item before it. So we have 2 items in the list\n",
       "- c: The empty list has 0 items\n",
       "- d: The expression is the same as the list `[2, 3]`, which has length 2."
      ]
     },
     "metadata": {},
     "output_type": "display_data"
    }
   ],
   "source": [
    "a = [1, 2, 3]\n",
    "b = [1, [2, 3]]\n",
    "c = []\n",
    "d = [1, 2, 3][1:]\n",
    "\n",
    "# Put your predictions in the list below. Lengths should contain 4 numbers, the\n",
    "# first being the length of a, the second being the length of b and so on.\n",
    "lengths = [3,2,0,2]\n",
    "\n",
    "# Check your answer\n",
    "q4.check()"
   ]
  },
  {
   "cell_type": "code",
   "execution_count": 9,
   "id": "dba8cc06",
   "metadata": {
    "collapsed": true,
    "execution": {
     "iopub.execute_input": "2023-02-22T02:03:12.910005Z",
     "iopub.status.busy": "2023-02-22T02:03:12.909356Z",
     "iopub.status.idle": "2023-02-22T02:03:12.913720Z",
     "shell.execute_reply": "2023-02-22T02:03:12.912884Z"
    },
    "jupyter": {
     "outputs_hidden": true
    },
    "papermill": {
     "duration": 0.014172,
     "end_time": "2023-02-22T02:03:12.915862",
     "exception": false,
     "start_time": "2023-02-22T02:03:12.901690",
     "status": "completed"
    },
    "tags": []
   },
   "outputs": [],
   "source": [
    "# line below provides some explanation\n",
    "#q4.solution()"
   ]
  },
  {
   "cell_type": "markdown",
   "id": "4a414e30",
   "metadata": {
    "papermill": {
     "duration": 0.005785,
     "end_time": "2023-02-22T02:03:12.927742",
     "exception": false,
     "start_time": "2023-02-22T02:03:12.921957",
     "status": "completed"
    },
    "tags": []
   },
   "source": [
    "# 5. <span title=\"A bit spicy\" style=\"color: darkgreen \">🌶️</span>\n",
    "\n",
    "We're using lists to record people who attended our party and what order they arrived in. For example, the following list represents a party with 7 guests, in which Adela showed up first and Ford was the last to arrive:\n",
    "\n",
    "    party_attendees = ['Adela', 'Fleda', 'Owen', 'May', 'Mona', 'Gilbert', 'Ford']\n",
    "\n",
    "A guest is considered 'fashionably late' if they arrived after at least half of the party's guests. However, they must not be the very last guest (that's taking it too far). In the above example, Mona and Gilbert are the only guests who were fashionably late.\n",
    "\n",
    "Complete the function below which takes a list of party attendees as well as a person, and tells us whether that person is fashionably late."
   ]
  },
  {
   "cell_type": "code",
   "execution_count": 10,
   "id": "0db6ed49",
   "metadata": {
    "execution": {
     "iopub.execute_input": "2023-02-22T02:03:12.942061Z",
     "iopub.status.busy": "2023-02-22T02:03:12.941420Z",
     "iopub.status.idle": "2023-02-22T02:03:12.951897Z",
     "shell.execute_reply": "2023-02-22T02:03:12.950805Z"
    },
    "papermill": {
     "duration": 0.020233,
     "end_time": "2023-02-22T02:03:12.954060",
     "exception": false,
     "start_time": "2023-02-22T02:03:12.933827",
     "status": "completed"
    },
    "tags": []
   },
   "outputs": [
    {
     "data": {
      "application/javascript": [
       "parent.postMessage({\"jupyterEvent\": \"custom.exercise_interaction\", \"data\": {\"outcomeType\": 1, \"valueTowardsCompletion\": 0.2, \"interactionType\": 1, \"questionType\": 2, \"questionId\": \"5_FashionablyLate\", \"learnToolsVersion\": \"0.3.4\", \"failureMessage\": \"\", \"exceptionClass\": \"\", \"trace\": \"\"}}, \"*\")"
      ],
      "text/plain": [
       "<IPython.core.display.Javascript object>"
      ]
     },
     "metadata": {},
     "output_type": "display_data"
    },
    {
     "data": {
      "text/markdown": [
       "<span style=\"color:#33cc33\">Correct</span>"
      ],
      "text/plain": [
       "Correct"
      ]
     },
     "metadata": {},
     "output_type": "display_data"
    }
   ],
   "source": [
    "def fashionably_late(arrivals, name):\n",
    "    \"\"\"Given an ordered list of arrivals to the party and a name, return whether the guest with that\n",
    "    name was fashionably late.\n",
    "    \"\"\"\n",
    "    \n",
    "    return (arrivals.index(name)>=((len(arrivals)//2) if len(arrivals)%2==0 else (len(arrivals)//2)+1 ) ) and (arrivals.index(name)!=len(arrivals)-1)\n",
    "\n",
    "# Check your answer\n",
    "q5.check()"
   ]
  },
  {
   "cell_type": "code",
   "execution_count": 11,
   "id": "3d7aca1e",
   "metadata": {
    "collapsed": true,
    "execution": {
     "iopub.execute_input": "2023-02-22T02:03:12.968941Z",
     "iopub.status.busy": "2023-02-22T02:03:12.968293Z",
     "iopub.status.idle": "2023-02-22T02:03:12.972594Z",
     "shell.execute_reply": "2023-02-22T02:03:12.971764Z"
    },
    "jupyter": {
     "outputs_hidden": true
    },
    "papermill": {
     "duration": 0.014203,
     "end_time": "2023-02-22T02:03:12.974686",
     "exception": false,
     "start_time": "2023-02-22T02:03:12.960483",
     "status": "completed"
    },
    "tags": []
   },
   "outputs": [],
   "source": [
    "#q5.hint()\n",
    "#q5.solution()"
   ]
  },
  {
   "cell_type": "markdown",
   "id": "c8ebdcaa",
   "metadata": {
    "papermill": {
     "duration": 0.00635,
     "end_time": "2023-02-22T02:03:12.987575",
     "exception": false,
     "start_time": "2023-02-22T02:03:12.981225",
     "status": "completed"
    },
    "tags": []
   },
   "source": [
    "# Keep Going\n",
    "\n",
    "That's it for lists and tuples! Now you have the baseline knowledge to **[learn about loops](https://www.kaggle.com/colinmorris/loops-and-list-comprehensions)**, which is where lists and tuples get really interesting. "
   ]
  },
  {
   "cell_type": "markdown",
   "id": "4241be43",
   "metadata": {
    "papermill": {
     "duration": 0.006118,
     "end_time": "2023-02-22T02:03:13.000478",
     "exception": false,
     "start_time": "2023-02-22T02:03:12.994360",
     "status": "completed"
    },
    "tags": []
   },
   "source": [
    "---\n",
    "\n",
    "\n",
    "\n",
    "\n",
    "*Have questions or comments? Visit the [course discussion forum](https://www.kaggle.com/learn/python/discussion) to chat with other learners.*"
   ]
  }
 ],
 "metadata": {
  "kernelspec": {
   "display_name": "Python 3",
   "language": "python",
   "name": "python3"
  },
  "language_info": {
   "codemirror_mode": {
    "name": "ipython",
    "version": 3
   },
   "file_extension": ".py",
   "mimetype": "text/x-python",
   "name": "python",
   "nbconvert_exporter": "python",
   "pygments_lexer": "ipython3",
   "version": "3.7.12"
  },
  "papermill": {
   "default_parameters": {},
   "duration": 9.154808,
   "end_time": "2023-02-22T02:03:13.627043",
   "environment_variables": {},
   "exception": null,
   "input_path": "__notebook__.ipynb",
   "output_path": "__notebook__.ipynb",
   "parameters": {},
   "start_time": "2023-02-22T02:03:04.472235",
   "version": "2.3.4"
  }
 },
 "nbformat": 4,
 "nbformat_minor": 5
}
