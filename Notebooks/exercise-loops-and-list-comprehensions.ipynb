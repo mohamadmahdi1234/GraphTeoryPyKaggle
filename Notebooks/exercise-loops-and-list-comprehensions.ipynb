{
 "cells": [
  {
   "cell_type": "markdown",
   "id": "5d5773ad",
   "metadata": {
    "papermill": {
     "duration": 0.006878,
     "end_time": "2023-02-22T02:04:07.506514",
     "exception": false,
     "start_time": "2023-02-22T02:04:07.499636",
     "status": "completed"
    },
    "tags": []
   },
   "source": [
    "**This notebook is an exercise in the [Python](https://www.kaggle.com/learn/python) course.  You can reference the tutorial at [this link](https://www.kaggle.com/colinmorris/loops-and-list-comprehensions).**\n",
    "\n",
    "---\n"
   ]
  },
  {
   "cell_type": "markdown",
   "id": "a98f46f4",
   "metadata": {
    "papermill": {
     "duration": 0.00512,
     "end_time": "2023-02-22T02:04:07.517378",
     "exception": false,
     "start_time": "2023-02-22T02:04:07.512258",
     "status": "completed"
    },
    "tags": []
   },
   "source": [
    "With all you've learned, you can start writing much more interesting programs. See if you can solve the problems below.\n",
    "\n",
    "As always, run the setup code below before working on the questions."
   ]
  },
  {
   "cell_type": "code",
   "execution_count": 1,
   "id": "388ef2af",
   "metadata": {
    "execution": {
     "iopub.execute_input": "2023-02-22T02:04:07.530585Z",
     "iopub.status.busy": "2023-02-22T02:04:07.529789Z",
     "iopub.status.idle": "2023-02-22T02:04:07.572101Z",
     "shell.execute_reply": "2023-02-22T02:04:07.571161Z"
    },
    "papermill": {
     "duration": 0.052437,
     "end_time": "2023-02-22T02:04:07.575155",
     "exception": false,
     "start_time": "2023-02-22T02:04:07.522718",
     "status": "completed"
    },
    "tags": []
   },
   "outputs": [
    {
     "name": "stdout",
     "output_type": "stream",
     "text": [
      "Setup complete.\n"
     ]
    }
   ],
   "source": [
    "from learntools.core import binder; binder.bind(globals())\n",
    "from learntools.python.ex5 import *\n",
    "print('Setup complete.')"
   ]
  },
  {
   "cell_type": "markdown",
   "id": "f782b1df",
   "metadata": {
    "papermill": {
     "duration": 0.005356,
     "end_time": "2023-02-22T02:04:07.587130",
     "exception": false,
     "start_time": "2023-02-22T02:04:07.581774",
     "status": "completed"
    },
    "tags": []
   },
   "source": [
    "# 1.\n",
    "\n",
    "Have you ever felt debugging involved a bit of luck? The following program has a bug. Try to identify the bug and fix it."
   ]
  },
  {
   "cell_type": "code",
   "execution_count": 2,
   "id": "e65b7f8e",
   "metadata": {
    "execution": {
     "iopub.execute_input": "2023-02-22T02:04:07.600514Z",
     "iopub.status.busy": "2023-02-22T02:04:07.599832Z",
     "iopub.status.idle": "2023-02-22T02:04:07.604980Z",
     "shell.execute_reply": "2023-02-22T02:04:07.604145Z"
    },
    "papermill": {
     "duration": 0.014068,
     "end_time": "2023-02-22T02:04:07.606985",
     "exception": false,
     "start_time": "2023-02-22T02:04:07.592917",
     "status": "completed"
    },
    "tags": []
   },
   "outputs": [],
   "source": [
    "def has_lucky_number(nums):\n",
    "    \"\"\"Return whether the given list of numbers is lucky. A lucky list contains\n",
    "    at least one number divisible by 7.\n",
    "    \"\"\"\n",
    "    for num in nums:\n",
    "        if num % 7 == 0:\n",
    "            return True\n",
    "    return False\n",
    "        "
   ]
  },
  {
   "cell_type": "markdown",
   "id": "3a53f342",
   "metadata": {
    "papermill": {
     "duration": 0.005316,
     "end_time": "2023-02-22T02:04:07.617898",
     "exception": false,
     "start_time": "2023-02-22T02:04:07.612582",
     "status": "completed"
    },
    "tags": []
   },
   "source": [
    "Try to identify the bug and fix it in the cell below:"
   ]
  },
  {
   "cell_type": "code",
   "execution_count": 3,
   "id": "b16774a6",
   "metadata": {
    "execution": {
     "iopub.execute_input": "2023-02-22T02:04:07.631590Z",
     "iopub.status.busy": "2023-02-22T02:04:07.631138Z",
     "iopub.status.idle": "2023-02-22T02:04:07.643156Z",
     "shell.execute_reply": "2023-02-22T02:04:07.642140Z"
    },
    "papermill": {
     "duration": 0.021712,
     "end_time": "2023-02-22T02:04:07.645595",
     "exception": false,
     "start_time": "2023-02-22T02:04:07.623883",
     "status": "completed"
    },
    "tags": []
   },
   "outputs": [
    {
     "data": {
      "application/javascript": [
       "parent.postMessage({\"jupyterEvent\": \"custom.exercise_interaction\", \"data\": {\"outcomeType\": 1, \"valueTowardsCompletion\": 0.25, \"interactionType\": 1, \"questionType\": 2, \"questionId\": \"1_EarlyExitDebugging\", \"learnToolsVersion\": \"0.3.4\", \"failureMessage\": \"\", \"exceptionClass\": \"\", \"trace\": \"\"}}, \"*\")"
      ],
      "text/plain": [
       "<IPython.core.display.Javascript object>"
      ]
     },
     "metadata": {},
     "output_type": "display_data"
    },
    {
     "data": {
      "text/markdown": [
       "<span style=\"color:#33cc33\">Correct:</span> \n",
       "\n",
       "Remember that `return` causes a function to exit immediately. So our original implementation always ran for just one iteration. We can only return `False` if we've looked at every element of the list (and confirmed that none of them are lucky). Though we can return early if the answer is `True`:\n",
       "\n",
       "```python\n",
       "def has_lucky_number(nums):\n",
       "    for num in nums:\n",
       "        if num % 7 == 0:\n",
       "            return True\n",
       "    # We've exhausted the list without finding a lucky number\n",
       "    return False\n",
       "```\n",
       "\n",
       "Here's a one-line version using a list comprehension with Python's `any` function (you can read about what it does by calling `help(any)`):\n",
       "\n",
       "```python\n",
       "def has_lucky_number(nums):\n",
       "    return any([num % 7 == 0 for num in nums])\n",
       "```\n"
      ],
      "text/plain": [
       "Correct: \n",
       "\n",
       "Remember that `return` causes a function to exit immediately. So our original implementation always ran for just one iteration. We can only return `False` if we've looked at every element of the list (and confirmed that none of them are lucky). Though we can return early if the answer is `True`:\n",
       "\n",
       "```python\n",
       "def has_lucky_number(nums):\n",
       "    for num in nums:\n",
       "        if num % 7 == 0:\n",
       "            return True\n",
       "    # We've exhausted the list without finding a lucky number\n",
       "    return False\n",
       "```\n",
       "\n",
       "Here's a one-line version using a list comprehension with Python's `any` function (you can read about what it does by calling `help(any)`):\n",
       "\n",
       "```python\n",
       "def has_lucky_number(nums):\n",
       "    return any([num % 7 == 0 for num in nums])\n",
       "```"
      ]
     },
     "metadata": {},
     "output_type": "display_data"
    }
   ],
   "source": [
    "def has_lucky_number(nums):\n",
    "    \"\"\"Return whether the given list of numbers is lucky. A lucky list contains\n",
    "    at least one number divisible by 7.\n",
    "    \"\"\"\n",
    "    for num in nums:\n",
    "        if num % 7 == 0:\n",
    "            return True\n",
    "    return False\n",
    "\n",
    "# Check your answer\n",
    "q1.check()"
   ]
  },
  {
   "cell_type": "code",
   "execution_count": 4,
   "id": "6296e0cc",
   "metadata": {
    "execution": {
     "iopub.execute_input": "2023-02-22T02:04:07.659553Z",
     "iopub.status.busy": "2023-02-22T02:04:07.658826Z",
     "iopub.status.idle": "2023-02-22T02:04:07.663476Z",
     "shell.execute_reply": "2023-02-22T02:04:07.662342Z"
    },
    "papermill": {
     "duration": 0.014052,
     "end_time": "2023-02-22T02:04:07.665732",
     "exception": false,
     "start_time": "2023-02-22T02:04:07.651680",
     "status": "completed"
    },
    "tags": []
   },
   "outputs": [],
   "source": [
    "#q1.hint()\n",
    "#q1.solution()"
   ]
  },
  {
   "cell_type": "markdown",
   "id": "b4bd15d9",
   "metadata": {
    "papermill": {
     "duration": 0.005598,
     "end_time": "2023-02-22T02:04:07.677233",
     "exception": false,
     "start_time": "2023-02-22T02:04:07.671635",
     "status": "completed"
    },
    "tags": []
   },
   "source": [
    "# 2.\n",
    "Look at the Python expression below. What do you think we'll get when we run it? When you've made your prediction, uncomment the code and run the cell to see if you were right."
   ]
  },
  {
   "cell_type": "code",
   "execution_count": 5,
   "id": "87cb9e61",
   "metadata": {
    "execution": {
     "iopub.execute_input": "2023-02-22T02:04:07.691034Z",
     "iopub.status.busy": "2023-02-22T02:04:07.690343Z",
     "iopub.status.idle": "2023-02-22T02:04:07.694353Z",
     "shell.execute_reply": "2023-02-22T02:04:07.693599Z"
    },
    "papermill": {
     "duration": 0.013371,
     "end_time": "2023-02-22T02:04:07.696383",
     "exception": false,
     "start_time": "2023-02-22T02:04:07.683012",
     "status": "completed"
    },
    "tags": []
   },
   "outputs": [],
   "source": [
    "#[1, 2, 3, 4] > 2"
   ]
  },
  {
   "cell_type": "markdown",
   "id": "7254f6a4",
   "metadata": {
    "papermill": {
     "duration": 0.005668,
     "end_time": "2023-02-22T02:04:07.707902",
     "exception": false,
     "start_time": "2023-02-22T02:04:07.702234",
     "status": "completed"
    },
    "tags": []
   },
   "source": [
    "R and Python have some libraries (like numpy and pandas) compare each element of the list to 2 (i.e. do an 'element-wise' comparison) and give us a list of booleans like `[False, False, True, True]`. \n",
    "\n",
    "Implement a function that reproduces this behaviour, returning a list of booleans corresponding to whether the corresponding element is greater than n."
   ]
  },
  {
   "cell_type": "code",
   "execution_count": 6,
   "id": "59fca4ee",
   "metadata": {
    "execution": {
     "iopub.execute_input": "2023-02-22T02:04:07.722102Z",
     "iopub.status.busy": "2023-02-22T02:04:07.720906Z",
     "iopub.status.idle": "2023-02-22T02:04:07.729843Z",
     "shell.execute_reply": "2023-02-22T02:04:07.729066Z"
    },
    "papermill": {
     "duration": 0.017997,
     "end_time": "2023-02-22T02:04:07.731817",
     "exception": false,
     "start_time": "2023-02-22T02:04:07.713820",
     "status": "completed"
    },
    "tags": []
   },
   "outputs": [
    {
     "data": {
      "application/javascript": [
       "parent.postMessage({\"jupyterEvent\": \"custom.exercise_interaction\", \"data\": {\"outcomeType\": 1, \"valueTowardsCompletion\": 0.25, \"interactionType\": 1, \"questionType\": 2, \"questionId\": \"2_ElementWiseComparison\", \"learnToolsVersion\": \"0.3.4\", \"failureMessage\": \"\", \"exceptionClass\": \"\", \"trace\": \"\"}}, \"*\")"
      ],
      "text/plain": [
       "<IPython.core.display.Javascript object>"
      ]
     },
     "metadata": {},
     "output_type": "display_data"
    },
    {
     "data": {
      "text/markdown": [
       "<span style=\"color:#33cc33\">Correct:</span> \n",
       "\n",
       "Here's one solution:\n",
       "```python\n",
       "def elementwise_greater_than(L, thresh):\n",
       "    res = []\n",
       "    for ele in L:\n",
       "        res.append(ele > thresh)\n",
       "    return res\n",
       "```\n",
       "\n",
       "And here's the list comprehension version:\n",
       "```python\n",
       "def elementwise_greater_than(L, thresh):\n",
       "    return [ele > thresh for ele in L]\n",
       "```\n"
      ],
      "text/plain": [
       "Correct: \n",
       "\n",
       "Here's one solution:\n",
       "```python\n",
       "def elementwise_greater_than(L, thresh):\n",
       "    res = []\n",
       "    for ele in L:\n",
       "        res.append(ele > thresh)\n",
       "    return res\n",
       "```\n",
       "\n",
       "And here's the list comprehension version:\n",
       "```python\n",
       "def elementwise_greater_than(L, thresh):\n",
       "    return [ele > thresh for ele in L]\n",
       "```"
      ]
     },
     "metadata": {},
     "output_type": "display_data"
    }
   ],
   "source": [
    "def elementwise_greater_than(L, thresh):\n",
    "    \"\"\"Return a list with the same length as L, where the value at index i is \n",
    "    True if L[i] is greater than thresh, and False otherwise.\n",
    "    \n",
    "    >>> elementwise_greater_than([1, 2, 3, 4], 2)\n",
    "    [False, False, True, True]\n",
    "    \"\"\"\n",
    "    for_ret = []\n",
    "    for q in L :\n",
    "        if q>thresh:\n",
    "            for_ret.append(True)\n",
    "        else:\n",
    "            for_ret.append(False)\n",
    "            \n",
    "    return for_ret\n",
    "\n",
    "# Check your answer\n",
    "q2.check()"
   ]
  },
  {
   "cell_type": "code",
   "execution_count": 7,
   "id": "576247f1",
   "metadata": {
    "execution": {
     "iopub.execute_input": "2023-02-22T02:04:07.746851Z",
     "iopub.status.busy": "2023-02-22T02:04:07.745783Z",
     "iopub.status.idle": "2023-02-22T02:04:07.750574Z",
     "shell.execute_reply": "2023-02-22T02:04:07.749667Z"
    },
    "papermill": {
     "duration": 0.014456,
     "end_time": "2023-02-22T02:04:07.752797",
     "exception": false,
     "start_time": "2023-02-22T02:04:07.738341",
     "status": "completed"
    },
    "tags": []
   },
   "outputs": [],
   "source": [
    "#q2.solution()"
   ]
  },
  {
   "cell_type": "markdown",
   "id": "8d8e2e65",
   "metadata": {
    "papermill": {
     "duration": 0.005798,
     "end_time": "2023-02-22T02:04:07.764614",
     "exception": false,
     "start_time": "2023-02-22T02:04:07.758816",
     "status": "completed"
    },
    "tags": []
   },
   "source": [
    "# 3.\n",
    "\n",
    "Complete the body of the function below according to its docstring."
   ]
  },
  {
   "cell_type": "code",
   "execution_count": 8,
   "id": "024375b3",
   "metadata": {
    "execution": {
     "iopub.execute_input": "2023-02-22T02:04:07.778971Z",
     "iopub.status.busy": "2023-02-22T02:04:07.778567Z",
     "iopub.status.idle": "2023-02-22T02:04:07.787336Z",
     "shell.execute_reply": "2023-02-22T02:04:07.786622Z"
    },
    "papermill": {
     "duration": 0.019016,
     "end_time": "2023-02-22T02:04:07.789666",
     "exception": false,
     "start_time": "2023-02-22T02:04:07.770650",
     "status": "completed"
    },
    "tags": []
   },
   "outputs": [
    {
     "data": {
      "application/javascript": [
       "parent.postMessage({\"jupyterEvent\": \"custom.exercise_interaction\", \"data\": {\"outcomeType\": 1, \"valueTowardsCompletion\": 0.25, \"interactionType\": 1, \"questionType\": 2, \"questionId\": \"3_BoringMenu\", \"learnToolsVersion\": \"0.3.4\", \"failureMessage\": \"\", \"exceptionClass\": \"\", \"trace\": \"\"}}, \"*\")"
      ],
      "text/plain": [
       "<IPython.core.display.Javascript object>"
      ]
     },
     "metadata": {},
     "output_type": "display_data"
    },
    {
     "data": {
      "text/markdown": [
       "<span style=\"color:#33cc33\">Correct:</span> \n",
       "\n",
       "\n",
       "\n",
       "```python\n",
       "def menu_is_boring(meals):\n",
       "    # Iterate over all indices of the list, except the last one\n",
       "    for i in range(len(meals)-1):\n",
       "        if meals[i] == meals[i+1]:\n",
       "            return True\n",
       "    return False\n",
       "```\n",
       "\n",
       "The key to our solution is the call to `range`. `range(len(meals))` would give us all the indices of `meals`. If we had used that range, the last iteration of the loop would be comparing the last element to the element after it, which is... `IndexError`! `range(len(meals)-1)` gives us all the indices except the index of the last element.\n",
       "\n",
       "But don't we need to check if `meals` is empty? Turns out that `range(0) == range(-1)` - they're both empty. So if `meals` has length 0 or 1, we just won't do any iterations of our for loop.\n"
      ],
      "text/plain": [
       "Correct: \n",
       "\n",
       "\n",
       "\n",
       "```python\n",
       "def menu_is_boring(meals):\n",
       "    # Iterate over all indices of the list, except the last one\n",
       "    for i in range(len(meals)-1):\n",
       "        if meals[i] == meals[i+1]:\n",
       "            return True\n",
       "    return False\n",
       "```\n",
       "\n",
       "The key to our solution is the call to `range`. `range(len(meals))` would give us all the indices of `meals`. If we had used that range, the last iteration of the loop would be comparing the last element to the element after it, which is... `IndexError`! `range(len(meals)-1)` gives us all the indices except the index of the last element.\n",
       "\n",
       "But don't we need to check if `meals` is empty? Turns out that `range(0) == range(-1)` - they're both empty. So if `meals` has length 0 or 1, we just won't do any iterations of our for loop."
      ]
     },
     "metadata": {},
     "output_type": "display_data"
    }
   ],
   "source": [
    "def menu_is_boring(meals):\n",
    "    \"\"\"Given a list of meals served over some period of time, return True if the\n",
    "    same meal has ever been served two days in a row, and False otherwise.\n",
    "    \"\"\"\n",
    "    for i in range(len(meals)-1):\n",
    "        if meals[i]==meals[i+1]:\n",
    "            return True\n",
    "    return False\n",
    "\n",
    "# Check your answer\n",
    "q3.check()"
   ]
  },
  {
   "cell_type": "code",
   "execution_count": 9,
   "id": "d572aa1b",
   "metadata": {
    "execution": {
     "iopub.execute_input": "2023-02-22T02:04:07.804434Z",
     "iopub.status.busy": "2023-02-22T02:04:07.803681Z",
     "iopub.status.idle": "2023-02-22T02:04:07.808552Z",
     "shell.execute_reply": "2023-02-22T02:04:07.807471Z"
    },
    "papermill": {
     "duration": 0.014573,
     "end_time": "2023-02-22T02:04:07.810776",
     "exception": false,
     "start_time": "2023-02-22T02:04:07.796203",
     "status": "completed"
    },
    "tags": []
   },
   "outputs": [],
   "source": [
    "#q3.hint()\n",
    "#q3.solution()"
   ]
  },
  {
   "cell_type": "markdown",
   "id": "d0fa18a0",
   "metadata": {
    "papermill": {
     "duration": 0.006242,
     "end_time": "2023-02-22T02:04:07.823548",
     "exception": false,
     "start_time": "2023-02-22T02:04:07.817306",
     "status": "completed"
    },
    "tags": []
   },
   "source": [
    "# 4. <span title=\"A bit spicy\" style=\"color: darkgreen \">🌶️</span>\n",
    "\n",
    "Next to the Blackjack table, the Python Challenge Casino has a slot machine. You can get a result from the slot machine by calling `play_slot_machine()`. The number it returns is your winnings in dollars. Usually it returns 0.  But sometimes you'll get lucky and get a big payday. Try running it below:"
   ]
  },
  {
   "cell_type": "code",
   "execution_count": 10,
   "id": "cdce3dcb",
   "metadata": {
    "execution": {
     "iopub.execute_input": "2023-02-22T02:04:07.838328Z",
     "iopub.status.busy": "2023-02-22T02:04:07.837938Z",
     "iopub.status.idle": "2023-02-22T02:04:07.844444Z",
     "shell.execute_reply": "2023-02-22T02:04:07.843492Z"
    },
    "papermill": {
     "duration": 0.01628,
     "end_time": "2023-02-22T02:04:07.846490",
     "exception": false,
     "start_time": "2023-02-22T02:04:07.830210",
     "status": "completed"
    },
    "tags": []
   },
   "outputs": [
    {
     "data": {
      "text/plain": [
       "0"
      ]
     },
     "execution_count": 10,
     "metadata": {},
     "output_type": "execute_result"
    }
   ],
   "source": [
    "play_slot_machine()"
   ]
  },
  {
   "cell_type": "markdown",
   "id": "9d18a296",
   "metadata": {
    "papermill": {
     "duration": 0.006279,
     "end_time": "2023-02-22T02:04:07.859285",
     "exception": false,
     "start_time": "2023-02-22T02:04:07.853006",
     "status": "completed"
    },
    "tags": []
   },
   "source": [
    "By the way, did we mention that each play costs $1? Don't worry, we'll send you the bill later.\n",
    "\n",
    "On average, how much money can you expect to gain (or lose) every time you play the machine?  The casino keeps it a secret, but you can estimate the average value of each pull using a technique called the **Monte Carlo method**. To estimate the average outcome, we simulate the scenario many times, and return the average result.\n",
    "\n",
    "Complete the following function to calculate the average value per play of the slot machine."
   ]
  },
  {
   "cell_type": "code",
   "execution_count": 11,
   "id": "06300cf9",
   "metadata": {
    "execution": {
     "iopub.execute_input": "2023-02-22T02:04:07.874776Z",
     "iopub.status.busy": "2023-02-22T02:04:07.874108Z",
     "iopub.status.idle": "2023-02-22T02:04:07.879888Z",
     "shell.execute_reply": "2023-02-22T02:04:07.878774Z"
    },
    "papermill": {
     "duration": 0.016067,
     "end_time": "2023-02-22T02:04:07.882053",
     "exception": false,
     "start_time": "2023-02-22T02:04:07.865986",
     "status": "completed"
    },
    "tags": []
   },
   "outputs": [],
   "source": [
    "def estimate_average_slot_payout(n_runs):\n",
    "    \"\"\"Run the slot machine n_runs times and return the average net profit per run.\n",
    "    Example calls (note that return value is nondeterministic!):\n",
    "    >>> estimate_average_slot_payout(1)\n",
    "    -1\n",
    "    >>> estimate_average_slot_payout(1)\n",
    "    0.5\n",
    "    \"\"\"\n",
    "    summ = 0\n",
    "    for i in range(n_runs):\n",
    "        summ += play_slot_machine()-1\n",
    "    return summ/n_runs\n",
    "        "
   ]
  },
  {
   "cell_type": "markdown",
   "id": "abf7f502",
   "metadata": {
    "papermill": {
     "duration": 0.006201,
     "end_time": "2023-02-22T02:04:07.894943",
     "exception": false,
     "start_time": "2023-02-22T02:04:07.888742",
     "status": "completed"
    },
    "tags": []
   },
   "source": [
    "When you think you know the expected value per spin, run the code cell below to view the solution and get credit for answering the question."
   ]
  },
  {
   "cell_type": "code",
   "execution_count": 12,
   "id": "9cf327b4",
   "metadata": {
    "execution": {
     "iopub.execute_input": "2023-02-22T02:04:07.910303Z",
     "iopub.status.busy": "2023-02-22T02:04:07.909841Z",
     "iopub.status.idle": "2023-02-22T02:04:07.923859Z",
     "shell.execute_reply": "2023-02-22T02:04:07.922389Z"
    },
    "papermill": {
     "duration": 0.027299,
     "end_time": "2023-02-22T02:04:07.928710",
     "exception": false,
     "start_time": "2023-02-22T02:04:07.901411",
     "status": "completed"
    },
    "tags": []
   },
   "outputs": [
    {
     "data": {
      "application/javascript": [
       "parent.postMessage({\"jupyterEvent\": \"custom.exercise_interaction\", \"data\": {\"interactionType\": 3, \"questionType\": 4, \"questionId\": \"4_ExpectedSlotsPayout\", \"learnToolsVersion\": \"0.3.4\", \"valueTowardsCompletion\": 0.0, \"failureMessage\": \"\", \"exceptionClass\": \"\", \"trace\": \"\", \"outcomeType\": 4}}, \"*\")"
      ],
      "text/plain": [
       "<IPython.core.display.Javascript object>"
      ]
     },
     "metadata": {},
     "output_type": "display_data"
    },
    {
     "data": {
      "text/markdown": [
       "<span style=\"color:#33cc99\">Solution:</span> \n",
       "    \n",
       "The exact expected value of one pull of the slot machine is 0.025 - i.e. a little more than 2 cents.  See?  Not every game in the Python Challenge Casino is rigged against the player!\n",
       "\n",
       "In order to get this answer, you'll need to implement the `estimate_average_slot_payout(n_runs)` function to simulate pulling the slot machine `n_runs` times.  It should return the payout averaged over those `n_runs`.\n",
       "\n",
       "Then, once the function is defined, in order to estimate the average slot payout, we need only call the function.\n",
       "\n",
       "Because of the high variance of the outcome (there are some very rare high payout results that significantly affect the average) you might need to run your function with a very high value of `n_runs` to get a stable answer close to the true expectation.  For instance, you might use a value for `n_runs` of 1000000.\n",
       "\n",
       "Here's an example for how the function could look:\n",
       "```python\n",
       "def estimate_average_slot_payout(n_runs):\n",
       "    # Play slot machine n_runs times, calculate payout of each\n",
       "    payouts = [play_slot_machine()-1 for i in range(n_runs)]\n",
       "    # Calculate the average value\n",
       "    avg_payout = sum(payouts) / n_runs\n",
       "    return avg_payout\n",
       "    \n",
       "estimate_average_slot_payout(10000000)\n",
       "\n",
       "```\n",
       "\n",
       "This should return an answer close to 0.025!\n",
       "            \n"
      ],
      "text/plain": [
       "Solution: \n",
       "    \n",
       "The exact expected value of one pull of the slot machine is 0.025 - i.e. a little more than 2 cents.  See?  Not every game in the Python Challenge Casino is rigged against the player!\n",
       "\n",
       "In order to get this answer, you'll need to implement the `estimate_average_slot_payout(n_runs)` function to simulate pulling the slot machine `n_runs` times.  It should return the payout averaged over those `n_runs`.\n",
       "\n",
       "Then, once the function is defined, in order to estimate the average slot payout, we need only call the function.\n",
       "\n",
       "Because of the high variance of the outcome (there are some very rare high payout results that significantly affect the average) you might need to run your function with a very high value of `n_runs` to get a stable answer close to the true expectation.  For instance, you might use a value for `n_runs` of 1000000.\n",
       "\n",
       "Here's an example for how the function could look:\n",
       "```python\n",
       "def estimate_average_slot_payout(n_runs):\n",
       "    # Play slot machine n_runs times, calculate payout of each\n",
       "    payouts = [play_slot_machine()-1 for i in range(n_runs)]\n",
       "    # Calculate the average value\n",
       "    avg_payout = sum(payouts) / n_runs\n",
       "    return avg_payout\n",
       "    \n",
       "estimate_average_slot_payout(10000000)\n",
       "\n",
       "```\n",
       "\n",
       "This should return an answer close to 0.025!\n",
       "            "
      ]
     },
     "metadata": {},
     "output_type": "display_data"
    }
   ],
   "source": [
    "# Check your answer (Run this code cell to receive credit!)\n",
    "q4.solution()"
   ]
  },
  {
   "cell_type": "markdown",
   "id": "0cc5e68d",
   "metadata": {
    "papermill": {
     "duration": 0.007148,
     "end_time": "2023-02-22T02:04:07.944046",
     "exception": false,
     "start_time": "2023-02-22T02:04:07.936898",
     "status": "completed"
    },
    "tags": []
   },
   "source": [
    "# Keep Going\n",
    "\n",
    "Many programmers report that dictionaries are their favorite data structure. You'll get to **[learn about them](https://www.kaggle.com/colinmorris/strings-and-dictionaries)** (as well as strings) in the next lesson."
   ]
  },
  {
   "cell_type": "markdown",
   "id": "7b92bf44",
   "metadata": {
    "papermill": {
     "duration": 0.006802,
     "end_time": "2023-02-22T02:04:07.957894",
     "exception": false,
     "start_time": "2023-02-22T02:04:07.951092",
     "status": "completed"
    },
    "tags": []
   },
   "source": [
    "---\n",
    "\n",
    "\n",
    "\n",
    "\n",
    "*Have questions or comments? Visit the [course discussion forum](https://www.kaggle.com/learn/python/discussion) to chat with other learners.*"
   ]
  }
 ],
 "metadata": {
  "kernelspec": {
   "display_name": "Python 3",
   "language": "python",
   "name": "python3"
  },
  "language_info": {
   "codemirror_mode": {
    "name": "ipython",
    "version": 3
   },
   "file_extension": ".py",
   "mimetype": "text/x-python",
   "name": "python",
   "nbconvert_exporter": "python",
   "pygments_lexer": "ipython3",
   "version": "3.7.12"
  },
  "papermill": {
   "default_parameters": {},
   "duration": 9.198389,
   "end_time": "2023-02-22T02:04:08.589335",
   "environment_variables": {},
   "exception": null,
   "input_path": "__notebook__.ipynb",
   "output_path": "__notebook__.ipynb",
   "parameters": {},
   "start_time": "2023-02-22T02:03:59.390946",
   "version": "2.3.4"
  }
 },
 "nbformat": 4,
 "nbformat_minor": 5
}
