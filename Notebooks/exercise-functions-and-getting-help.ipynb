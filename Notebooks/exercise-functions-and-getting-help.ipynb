{
 "cells": [
  {
   "cell_type": "markdown",
   "id": "f3c5ae35",
   "metadata": {
    "papermill": {
     "duration": 0.009642,
     "end_time": "2023-02-22T02:01:45.066500",
     "exception": false,
     "start_time": "2023-02-22T02:01:45.056858",
     "status": "completed"
    },
    "tags": []
   },
   "source": [
    "**This notebook is an exercise in the [Python](https://www.kaggle.com/learn/python) course.  You can reference the tutorial at [this link](https://www.kaggle.com/colinmorris/functions-and-getting-help).**\n",
    "\n",
    "---\n"
   ]
  },
  {
   "cell_type": "markdown",
   "id": "74e82958",
   "metadata": {
    "papermill": {
     "duration": 0.005496,
     "end_time": "2023-02-22T02:01:45.078545",
     "exception": false,
     "start_time": "2023-02-22T02:01:45.073049",
     "status": "completed"
    },
    "tags": []
   },
   "source": [
    "Functions are powerful. Try writing some yourself.\n",
    "\n",
    "As before, don't forget to run the setup code below before jumping into question 1."
   ]
  },
  {
   "cell_type": "code",
   "execution_count": 1,
   "id": "48d1cf5d",
   "metadata": {
    "_kg_hide-input": true,
    "_kg_hide-output": true,
    "execution": {
     "iopub.execute_input": "2023-02-22T02:01:45.092074Z",
     "iopub.status.busy": "2023-02-22T02:01:45.091390Z",
     "iopub.status.idle": "2023-02-22T02:01:45.151432Z",
     "shell.execute_reply": "2023-02-22T02:01:45.150143Z"
    },
    "papermill": {
     "duration": 0.070616,
     "end_time": "2023-02-22T02:01:45.154414",
     "exception": false,
     "start_time": "2023-02-22T02:01:45.083798",
     "status": "completed"
    },
    "tags": []
   },
   "outputs": [
    {
     "name": "stdout",
     "output_type": "stream",
     "text": [
      "Setup complete.\n"
     ]
    }
   ],
   "source": [
    "# SETUP. You don't need to worry for now about what this code does or how it works.\n",
    "from learntools.core import binder; binder.bind(globals())\n",
    "from learntools.python.ex2 import *\n",
    "print('Setup complete.')"
   ]
  },
  {
   "cell_type": "markdown",
   "id": "b296d203",
   "metadata": {
    "papermill": {
     "duration": 0.004792,
     "end_time": "2023-02-22T02:01:45.164463",
     "exception": false,
     "start_time": "2023-02-22T02:01:45.159671",
     "status": "completed"
    },
    "tags": []
   },
   "source": [
    "# 1.\n",
    "\n",
    "Complete the body of the following function according to its docstring.\n",
    "\n",
    "HINT: Python has a built-in function `round`."
   ]
  },
  {
   "cell_type": "code",
   "execution_count": 2,
   "id": "0c61537f",
   "metadata": {
    "execution": {
     "iopub.execute_input": "2023-02-22T02:01:45.176655Z",
     "iopub.status.busy": "2023-02-22T02:01:45.176249Z",
     "iopub.status.idle": "2023-02-22T02:01:45.188851Z",
     "shell.execute_reply": "2023-02-22T02:01:45.187834Z"
    },
    "papermill": {
     "duration": 0.021754,
     "end_time": "2023-02-22T02:01:45.191206",
     "exception": false,
     "start_time": "2023-02-22T02:01:45.169452",
     "status": "completed"
    },
    "tags": []
   },
   "outputs": [
    {
     "data": {
      "application/javascript": [
       "parent.postMessage({\"jupyterEvent\": \"custom.exercise_interaction\", \"data\": {\"outcomeType\": 1, \"valueTowardsCompletion\": 0.16666666666666666, \"interactionType\": 1, \"questionType\": 2, \"questionId\": \"1_RoundFunctionProblem\", \"learnToolsVersion\": \"0.3.4\", \"failureMessage\": \"\", \"exceptionClass\": \"\", \"trace\": \"\"}}, \"*\")"
      ],
      "text/plain": [
       "<IPython.core.display.Javascript object>"
      ]
     },
     "metadata": {},
     "output_type": "display_data"
    },
    {
     "data": {
      "text/markdown": [
       "<span style=\"color:#33cc33\">Correct</span>"
      ],
      "text/plain": [
       "Correct"
      ]
     },
     "metadata": {},
     "output_type": "display_data"
    }
   ],
   "source": [
    "def round_to_two_places(num):\n",
    "    \"\"\"Return the given number rounded to two decimal places. \n",
    "    \n",
    "    >>> round_to_two_places(3.14159)\n",
    "    3.14\n",
    "    \"\"\"\n",
    "    # Replace this body with your own code.\n",
    "    # (\"pass\" is a keyword that does literally nothing. We used it as a placeholder\n",
    "    # because after we begin a code block, Python requires at least one line of code)\n",
    "    return round(num,ndigits = 2)\n",
    "\n",
    "# Check your answer\n",
    "q1.check()"
   ]
  },
  {
   "cell_type": "code",
   "execution_count": 3,
   "id": "ff2b0385",
   "metadata": {
    "execution": {
     "iopub.execute_input": "2023-02-22T02:01:45.205080Z",
     "iopub.status.busy": "2023-02-22T02:01:45.204197Z",
     "iopub.status.idle": "2023-02-22T02:01:45.209727Z",
     "shell.execute_reply": "2023-02-22T02:01:45.208214Z"
    },
    "papermill": {
     "duration": 0.015667,
     "end_time": "2023-02-22T02:01:45.212657",
     "exception": false,
     "start_time": "2023-02-22T02:01:45.196990",
     "status": "completed"
    },
    "tags": []
   },
   "outputs": [],
   "source": [
    "# Uncomment the following for a hint\n",
    "#q1.hint()\n",
    "# Or uncomment the following to peek at the solution\n",
    "#q1.solution()"
   ]
  },
  {
   "cell_type": "markdown",
   "id": "b066d67a",
   "metadata": {
    "papermill": {
     "duration": 0.005076,
     "end_time": "2023-02-22T02:01:45.223557",
     "exception": false,
     "start_time": "2023-02-22T02:01:45.218481",
     "status": "completed"
    },
    "tags": []
   },
   "source": [
    "# 2.\n",
    "The help for `round` says that `ndigits` (the second argument) may be negative.\n",
    "What do you think will happen when it is? Try some examples in the following cell."
   ]
  },
  {
   "cell_type": "code",
   "execution_count": 4,
   "id": "b958e50d",
   "metadata": {
    "execution": {
     "iopub.execute_input": "2023-02-22T02:01:45.236999Z",
     "iopub.status.busy": "2023-02-22T02:01:45.236554Z",
     "iopub.status.idle": "2023-02-22T02:01:45.243843Z",
     "shell.execute_reply": "2023-02-22T02:01:45.242410Z"
    },
    "papermill": {
     "duration": 0.018292,
     "end_time": "2023-02-22T02:01:45.247254",
     "exception": false,
     "start_time": "2023-02-22T02:01:45.228962",
     "status": "completed"
    },
    "tags": []
   },
   "outputs": [
    {
     "data": {
      "text/plain": [
       "0.0"
      ]
     },
     "execution_count": 4,
     "metadata": {},
     "output_type": "execute_result"
    }
   ],
   "source": [
    "# Put your test code here\n",
    "round(12.2,ndigits=-2)"
   ]
  },
  {
   "cell_type": "markdown",
   "id": "7b9b6ced",
   "metadata": {
    "papermill": {
     "duration": 0.00607,
     "end_time": "2023-02-22T02:01:45.261502",
     "exception": false,
     "start_time": "2023-02-22T02:01:45.255432",
     "status": "completed"
    },
    "tags": []
   },
   "source": [
    "Can you think of a case where this would be useful?  Once you're ready, run the code cell below to see the answer and to receive credit for completing the problem."
   ]
  },
  {
   "cell_type": "code",
   "execution_count": 5,
   "id": "58460b82",
   "metadata": {
    "execution": {
     "iopub.execute_input": "2023-02-22T02:01:45.278535Z",
     "iopub.status.busy": "2023-02-22T02:01:45.277504Z",
     "iopub.status.idle": "2023-02-22T02:01:45.290367Z",
     "shell.execute_reply": "2023-02-22T02:01:45.288699Z"
    },
    "papermill": {
     "duration": 0.024062,
     "end_time": "2023-02-22T02:01:45.293075",
     "exception": false,
     "start_time": "2023-02-22T02:01:45.269013",
     "status": "completed"
    },
    "tags": []
   },
   "outputs": [
    {
     "data": {
      "application/javascript": [
       "parent.postMessage({\"jupyterEvent\": \"custom.exercise_interaction\", \"data\": {\"interactionType\": 3, \"questionType\": 4, \"questionId\": \"2_RoundNdigitsProblem\", \"learnToolsVersion\": \"0.3.4\", \"valueTowardsCompletion\": 0.0, \"failureMessage\": \"\", \"exceptionClass\": \"\", \"trace\": \"\", \"outcomeType\": 4}}, \"*\")"
      ],
      "text/plain": [
       "<IPython.core.display.Javascript object>"
      ]
     },
     "metadata": {},
     "output_type": "display_data"
    },
    {
     "data": {
      "text/markdown": [
       "<span style=\"color:#33cc99\">Solution:</span> As you've seen, `ndigits=-1` rounds to the nearest 10, `ndigits=-2` rounds to the nearest 100 and so on. Where might this be useful? Suppose we're dealing with large numbers:\n",
       "\n",
       "> The area of Finland is 338,424 km²  \n",
       "> The area of Greenland is 2,166,086 km²\n",
       "\n",
       "We probably don't care whether it's really 338,424, or 338,425, or 338,177. All those digits of accuracy are just distracting. We can chop them off by calling `round()` with `ndigits=-3`:\n",
       "\n",
       "> The area of Finland is 338,000 km²  \n",
       "> The area of Greenland is 2,166,000 km²\n",
       "\n",
       "(We'll talk about how we would get the commas later when we talk about string formatting :))\n"
      ],
      "text/plain": [
       "Solution: As you've seen, `ndigits=-1` rounds to the nearest 10, `ndigits=-2` rounds to the nearest 100 and so on. Where might this be useful? Suppose we're dealing with large numbers:\n",
       "\n",
       "> The area of Finland is 338,424 km²  \n",
       "> The area of Greenland is 2,166,086 km²\n",
       "\n",
       "We probably don't care whether it's really 338,424, or 338,425, or 338,177. All those digits of accuracy are just distracting. We can chop them off by calling `round()` with `ndigits=-3`:\n",
       "\n",
       "> The area of Finland is 338,000 km²  \n",
       "> The area of Greenland is 2,166,000 km²\n",
       "\n",
       "(We'll talk about how we would get the commas later when we talk about string formatting :))"
      ]
     },
     "metadata": {},
     "output_type": "display_data"
    }
   ],
   "source": [
    "# Check your answer (Run this code cell to receive credit!)\n",
    "q2.solution()"
   ]
  },
  {
   "cell_type": "markdown",
   "id": "33110a91",
   "metadata": {
    "papermill": {
     "duration": 0.005965,
     "end_time": "2023-02-22T02:01:45.304958",
     "exception": false,
     "start_time": "2023-02-22T02:01:45.298993",
     "status": "completed"
    },
    "tags": []
   },
   "source": [
    "# 3.\n",
    "\n",
    "In the previous exercise, the candy-sharing friends Alice, Bob and Carol tried to split candies evenly. For the sake of their friendship, any candies left over would be smashed. For example, if they collectively bring home 91 candies, they'll take 30 each and smash 1.\n",
    "\n",
    "Below is a simple function that will calculate the number of candies to smash for *any* number of total candies.\n",
    "\n",
    "Modify it so that it optionally takes a second argument representing the number of friends the candies are being split between. If no second argument is provided, it should assume 3 friends, as before.\n",
    "\n",
    "Update the docstring to reflect this new behaviour."
   ]
  },
  {
   "cell_type": "code",
   "execution_count": 6,
   "id": "9521fa17",
   "metadata": {
    "execution": {
     "iopub.execute_input": "2023-02-22T02:01:45.319334Z",
     "iopub.status.busy": "2023-02-22T02:01:45.318884Z",
     "iopub.status.idle": "2023-02-22T02:01:45.328532Z",
     "shell.execute_reply": "2023-02-22T02:01:45.327579Z"
    },
    "papermill": {
     "duration": 0.019238,
     "end_time": "2023-02-22T02:01:45.330876",
     "exception": false,
     "start_time": "2023-02-22T02:01:45.311638",
     "status": "completed"
    },
    "tags": []
   },
   "outputs": [
    {
     "data": {
      "application/javascript": [
       "parent.postMessage({\"jupyterEvent\": \"custom.exercise_interaction\", \"data\": {\"outcomeType\": 1, \"valueTowardsCompletion\": 0.16666666666666666, \"interactionType\": 1, \"questionType\": 2, \"questionId\": \"3_CandySmashingFunctionProblem\", \"learnToolsVersion\": \"0.3.4\", \"failureMessage\": \"\", \"exceptionClass\": \"\", \"trace\": \"\"}}, \"*\")"
      ],
      "text/plain": [
       "<IPython.core.display.Javascript object>"
      ]
     },
     "metadata": {},
     "output_type": "display_data"
    },
    {
     "data": {
      "text/markdown": [
       "<span style=\"color:#33cc33\">Correct</span>"
      ],
      "text/plain": [
       "Correct"
      ]
     },
     "metadata": {},
     "output_type": "display_data"
    }
   ],
   "source": [
    "def to_smash(total_candies,num_fr = 3):\n",
    "    \"\"\"Return the number of leftover candies that must be smashed after distributing\n",
    "    the given number of candies evenly between 3 friends.\n",
    "    \n",
    "    >>> to_smash(91)\n",
    "    1\n",
    "    \"\"\"\n",
    "    return total_candies % num_fr\n",
    "\n",
    "# Check your answer\n",
    "q3.check()"
   ]
  },
  {
   "cell_type": "code",
   "execution_count": 7,
   "id": "b6effd25",
   "metadata": {
    "execution": {
     "iopub.execute_input": "2023-02-22T02:01:45.346721Z",
     "iopub.status.busy": "2023-02-22T02:01:45.345472Z",
     "iopub.status.idle": "2023-02-22T02:01:45.351521Z",
     "shell.execute_reply": "2023-02-22T02:01:45.350228Z"
    },
    "papermill": {
     "duration": 0.017438,
     "end_time": "2023-02-22T02:01:45.355014",
     "exception": false,
     "start_time": "2023-02-22T02:01:45.337576",
     "status": "completed"
    },
    "tags": []
   },
   "outputs": [],
   "source": [
    "#q3.hint()"
   ]
  },
  {
   "cell_type": "code",
   "execution_count": 8,
   "id": "d1edff29",
   "metadata": {
    "execution": {
     "iopub.execute_input": "2023-02-22T02:01:45.369289Z",
     "iopub.status.busy": "2023-02-22T02:01:45.368843Z",
     "iopub.status.idle": "2023-02-22T02:01:45.374214Z",
     "shell.execute_reply": "2023-02-22T02:01:45.372905Z"
    },
    "papermill": {
     "duration": 0.015715,
     "end_time": "2023-02-22T02:01:45.377019",
     "exception": false,
     "start_time": "2023-02-22T02:01:45.361304",
     "status": "completed"
    },
    "tags": []
   },
   "outputs": [],
   "source": [
    "#q3.solution()"
   ]
  },
  {
   "cell_type": "markdown",
   "id": "d29d858d",
   "metadata": {
    "papermill": {
     "duration": 0.006253,
     "end_time": "2023-02-22T02:01:45.390181",
     "exception": false,
     "start_time": "2023-02-22T02:01:45.383928",
     "status": "completed"
    },
    "tags": []
   },
   "source": [
    "# 4. (Optional)\n",
    "\n",
    "It may not be fun, but reading and understanding error messages will be an important part of your Python career.\n",
    "\n",
    "Each code cell below contains some commented buggy code. For each cell...\n",
    "\n",
    "1. Read the code and predict what you think will happen when it's run.\n",
    "2. Then uncomment the code and run it to see what happens. (**Tip**: In the kernel editor, you can highlight several lines and press `ctrl`+`/` to toggle commenting.)\n",
    "3. Fix the code (so that it accomplishes its intended purpose without throwing an exception)\n",
    "\n",
    "<!-- TODO: should this be autochecked? Delta is probably pretty small. -->"
   ]
  },
  {
   "cell_type": "code",
   "execution_count": 9,
   "id": "13bcdf38",
   "metadata": {
    "execution": {
     "iopub.execute_input": "2023-02-22T02:01:45.404451Z",
     "iopub.status.busy": "2023-02-22T02:01:45.404013Z",
     "iopub.status.idle": "2023-02-22T02:01:45.411163Z",
     "shell.execute_reply": "2023-02-22T02:01:45.410084Z"
    },
    "papermill": {
     "duration": 0.0169,
     "end_time": "2023-02-22T02:01:45.413313",
     "exception": false,
     "start_time": "2023-02-22T02:01:45.396413",
     "status": "completed"
    },
    "tags": []
   },
   "outputs": [
    {
     "data": {
      "text/plain": [
       "10.0"
      ]
     },
     "execution_count": 9,
     "metadata": {},
     "output_type": "execute_result"
    }
   ],
   "source": [
    " round_to_two_places(9.9999)"
   ]
  },
  {
   "cell_type": "code",
   "execution_count": 10,
   "id": "5799ee6a",
   "metadata": {
    "execution": {
     "iopub.execute_input": "2023-02-22T02:01:45.427523Z",
     "iopub.status.busy": "2023-02-22T02:01:45.427105Z",
     "iopub.status.idle": "2023-02-22T02:01:45.432623Z",
     "shell.execute_reply": "2023-02-22T02:01:45.431155Z"
    },
    "papermill": {
     "duration": 0.015682,
     "end_time": "2023-02-22T02:01:45.435172",
     "exception": false,
     "start_time": "2023-02-22T02:01:45.419490",
     "status": "completed"
    },
    "tags": []
   },
   "outputs": [],
   "source": [
    "x = -10\n",
    "y = 5\n",
    "# Which of the two variables above has the smallest absolute value?\n",
    "smallest_abs = min(abs(x),abs( y))"
   ]
  },
  {
   "cell_type": "code",
   "execution_count": 11,
   "id": "5bcbaddb",
   "metadata": {
    "execution": {
     "iopub.execute_input": "2023-02-22T02:01:45.450258Z",
     "iopub.status.busy": "2023-02-22T02:01:45.449455Z",
     "iopub.status.idle": "2023-02-22T02:01:45.456401Z",
     "shell.execute_reply": "2023-02-22T02:01:45.454643Z"
    },
    "papermill": {
     "duration": 0.017226,
     "end_time": "2023-02-22T02:01:45.458952",
     "exception": false,
     "start_time": "2023-02-22T02:01:45.441726",
     "status": "completed"
    },
    "tags": []
   },
   "outputs": [
    {
     "name": "stdout",
     "output_type": "stream",
     "text": [
      "5\n"
     ]
    }
   ],
   "source": [
    "def f(x):\n",
    "    y = abs(x)\n",
    "    return y\n",
    "\n",
    "print(f(5))"
   ]
  },
  {
   "cell_type": "markdown",
   "id": "88974040",
   "metadata": {
    "papermill": {
     "duration": 0.006565,
     "end_time": "2023-02-22T02:01:45.471877",
     "exception": false,
     "start_time": "2023-02-22T02:01:45.465312",
     "status": "completed"
    },
    "tags": []
   },
   "source": [
    "# Keep Going\n",
    "\n",
    "Nice job with the code. Next up, you'll learn about *conditionals*, which you'll need to **[write interesting programs](https://www.kaggle.com/colinmorris/booleans-and-conditionals)**. "
   ]
  },
  {
   "cell_type": "markdown",
   "id": "9bd0846b",
   "metadata": {
    "papermill": {
     "duration": 0.007386,
     "end_time": "2023-02-22T02:01:45.485830",
     "exception": false,
     "start_time": "2023-02-22T02:01:45.478444",
     "status": "completed"
    },
    "tags": []
   },
   "source": [
    "---\n",
    "\n",
    "\n",
    "\n",
    "\n",
    "*Have questions or comments? Visit the [course discussion forum](https://www.kaggle.com/learn/python/discussion) to chat with other learners.*"
   ]
  }
 ],
 "metadata": {
  "kernelspec": {
   "display_name": "Python 3",
   "language": "python",
   "name": "python3"
  },
  "language_info": {
   "codemirror_mode": {
    "name": "ipython",
    "version": 3
   },
   "file_extension": ".py",
   "mimetype": "text/x-python",
   "name": "python",
   "nbconvert_exporter": "python",
   "pygments_lexer": "ipython3",
   "version": "3.7.12"
  },
  "papermill": {
   "default_parameters": {},
   "duration": 11.08533,
   "end_time": "2023-02-22T02:01:46.215431",
   "environment_variables": {},
   "exception": null,
   "input_path": "__notebook__.ipynb",
   "output_path": "__notebook__.ipynb",
   "parameters": {},
   "start_time": "2023-02-22T02:01:35.130101",
   "version": "2.3.4"
  }
 },
 "nbformat": 4,
 "nbformat_minor": 5
}
